{
 "cells": [
  {
   "cell_type": "code",
   "execution_count": 1,
   "id": "e48ec5a1-95e1-4660-8564-d67a26083b0a",
   "metadata": {},
   "outputs": [],
   "source": [
    "import math\n",
    "import os\n",
    "import ast\n",
    "\n",
    "import sqlparse\n",
    "import numpy as np\n",
    "import pandas as pd\n",
    "from sqlalchemy import MetaData, Table, literal_column, Column\n",
    "from sqlalchemy.sql import select, func, or_\n",
    "from sqlalchemy.dialects.mysql import insert\n",
    "from sqlalchemy.dialects.mysql.types import VARCHAR, TINYINT, TEXT\n",
    "\n",
    "from f3_data_builder import (mysql_connection,\n",
    "region_queries, \n",
    "pull_beatdowns, \n",
    "pull_aos, \n",
    "pull_beatdowns, \n",
    "pull_attendance, \n",
    "build_users, \n",
    "build_aos, \n",
    "build_beatdowns, \n",
    "build_attendance,\n",
    "home_region_query\n",
    ")"
   ]
  },
  {
   "cell_type": "code",
   "execution_count": 2,
   "id": "1e113ed2-058b-472f-84fa-adde32e8f8eb",
   "metadata": {},
   "outputs": [],
   "source": [
    "from typing import Any, Tuple, Hashable, Iterable\n",
    "from sqlalchemy.engine import Engine\n",
    "from pandas._libs.missing import NAType\n",
    "from _mysql_connector import MySQLInterfaceError"
   ]
  },
  {
   "cell_type": "code",
   "execution_count": 3,
   "id": "c6108b0c-aaa3-4e27-9604-ce40e6686d8a",
   "metadata": {},
   "outputs": [],
   "source": [
    "engine = mysql_connection()"
   ]
  },
  {
   "cell_type": "code",
   "execution_count": 4,
   "id": "f4a77584-1141-406f-a066-2f188615fcf4",
   "metadata": {},
   "outputs": [],
   "source": [
    "metadata = MetaData()\n",
    "metadata.reflect(engine, schema=\"weaselbot\")\n",
    "\n",
    "Table(\"regions\", \n",
    "      metadata, \n",
    "      Column(\"region\", VARCHAR(length=45), nullable=False, primary_key=True), \n",
    "      Column(\"slack_token\", VARCHAR(length=90), nullable=False),\n",
    "      Column(\"schema_name\", VARCHAR(length=45), nullable=True, default=None),\n",
    "      Column(\"active\", TINYINT(), default=1),\n",
    "      Column(\"firstf_channel\", VARCHAR(length=45), nullable=True, default=None),\n",
    "      Column(\"contact\", VARCHAR(length=45), nullable=True, default=None),\n",
    "      Column(\"send_pax_charts\", TINYINT(), default=0),\n",
    "      Column(\"send_ao_leaderboard\", TINYINT(), default=0),\n",
    "      Column(\"send_q_charts\", TINYINT(), default=0),\n",
    "      Column(\"send_region_leaderboard\", TINYINT(), default=0),\n",
    "      Column(\"send_region_uniquepax_chart\", TINYINT(), default=0),\n",
    "      Column(\"send_region_stats\", VARCHAR(length=45), default=0),\n",
    "      Column(\"send_mid_month_charts\", VARCHAR(length=45), default=0),\n",
    "      Column(\"comments\", TEXT()),\n",
    "      schema=\"paxminer\");"
   ]
  },
  {
   "cell_type": "code",
   "execution_count": 28,
   "id": "cbdb50f6-889b-43c0-9d32-ed4f8998588b",
   "metadata": {},
   "outputs": [],
   "source": [
    "dtypes = {\"user_name\": pd.StringDtype(),\n",
    "              \"email\": pd.StringDtype(),\n",
    "              \"home_region_id\": pd.StringDtype(),\n",
    "              \"attendance_count\": pd.Int64Dtype(),\n",
    "              \"rn\": pd.Int64Dtype()}\n",
    "\n",
    "df_home_region = home_region_query(engine, metadata)\n",
    "df_home_region = df_home_region.astype(dtypes)"
   ]
  },
  {
   "cell_type": "code",
   "execution_count": null,
   "id": "d41db639-a981-4467-9c2c-e5837f280942",
   "metadata": {},
   "outputs": [],
   "source": []
  },
  {
   "cell_type": "code",
   "execution_count": null,
   "id": "ace105dd-46c0-4c56-8a7a-d7a35fa070b8",
   "metadata": {},
   "outputs": [],
   "source": []
  },
  {
   "cell_type": "code",
   "execution_count": null,
   "id": "c95dad3a-af43-4fcd-97a8-5672a822ffab",
   "metadata": {},
   "outputs": [],
   "source": []
  },
  {
   "cell_type": "code",
   "execution_count": 11,
   "id": "c093b425-e314-4f73-bdd1-84c8353b8ed1",
   "metadata": {},
   "outputs": [],
   "source": [
    "cr = metadata.tables[\"weaselbot.combined_regions\"]\n",
    "cu = metadata.tables[\"weaselbot.combined_users\"]\n",
    "cud = metadata.tables[\"weaselbot.combined_users_dup\"]\n",
    "ca = metadata.tables[\"weaselbot.combined_aos\"]\n",
    "cb = metadata.tables[\"weaselbot.combined_beatdowns\"]\n",
    "catt = metadata.tables[\"weaselbot.combined_attendance\"]"
   ]
  },
  {
   "cell_type": "code",
   "execution_count": 12,
   "id": "9abd02ac-4cb5-4186-a201-575dcdce6f31",
   "metadata": {},
   "outputs": [],
   "source": [
    "def insert_statement(table, insert_values, update_cols):\n",
    "    sql = insert(table).values(insert_values)\n",
    "    on_dup = sql.on_duplicate_key_update(\n",
    "        {v.name: v for v in sql.inserted if v.name in update_cols}\n",
    "    )\n",
    "    return on_dup"
   ]
  },
  {
   "cell_type": "code",
   "execution_count": 13,
   "id": "a85bd8b3-b7e5-4b4f-99c6-abc8ff64011a",
   "metadata": {},
   "outputs": [],
   "source": [
    "def region_subquery(metadata):\n",
    "    cb = metadata.tables[\"weaselbot.combined_beatdowns\"]\n",
    "    a = metadata.tables[\"weaselbot.combined_aos\"]\n",
    "\n",
    "    sql = select(\n",
    "        a.c.region_id,\n",
    "        func.max(cb.c.timestamp).label(\"max_timestamp\"),\n",
    "        func.max(cb.c.ts_edited).label(\"max_ts_edited\"),\n",
    "        func.count().label(\"beatdown_count\"),\n",
    "    )\n",
    "    sql = sql.select_from(cb.join(a, cb.c.ao_id == a.c.ao_id))\n",
    "    sql = sql.group_by(a.c.region_id).subquery(\"b\")\n",
    "    return sql"
   ]
  },
  {
   "cell_type": "code",
   "execution_count": 14,
   "id": "90eaa192-73df-4a09-9a4c-d20cfe6b7911",
   "metadata": {},
   "outputs": [],
   "source": [
    "def paxminer_region_query(metadata):\n",
    "    r = metadata.tables[\"paxminer.regions\"]\n",
    "    cr = metadata.tables[\"weaselbot.combined_regions\"]\n",
    "    sub = region_subquery(metadata)\n",
    "\n",
    "    sql = select(\n",
    "        r.c.schema_name,\n",
    "        r.c.region.label(\"region_name\"),\n",
    "        sub.c.max_timestamp,\n",
    "        sub.c.max_ts_edited,\n",
    "        sub.c.beatdown_count,\n",
    "        cr.c.region_id,\n",
    "    )\n",
    "    sql = sql.select_from(\n",
    "        r.outerjoin(cr, r.c.schema_name == cr.c.schema_name).outerjoin(sub, cr.c.region_id == sub.c.region_id)\n",
    "    )\n",
    "\n",
    "    return sql"
   ]
  },
  {
   "cell_type": "code",
   "execution_count": 15,
   "id": "8ba1d187-0cc6-4312-88bc-c0c55ab4d937",
   "metadata": {},
   "outputs": [],
   "source": [
    "def weaselbot_region_query(metadata):\n",
    "    cr = metadata.tables[\"weaselbot.combined_regions\"]\n",
    "    sub = region_subquery(metadata)\n",
    "\n",
    "    sql = select(cr, sub.c.beatdown_count)\n",
    "    sql = sql.select_from(cr.outerjoin(sub, cr.c.region_id == sub.c.region_id))\n",
    "\n",
    "    return sql"
   ]
  },
  {
   "cell_type": "code",
   "execution_count": 16,
   "id": "e7de42a6-6bea-4e12-b966-d2a7c84b91f2",
   "metadata": {},
   "outputs": [],
   "source": [
    "paxminer_region_sql = paxminer_region_query(metadata) # verified\n",
    "weaselbot_region_sql = weaselbot_region_query(metadata) # verified"
   ]
  },
  {
   "cell_type": "code",
   "execution_count": 17,
   "id": "55c0bf51-d32c-4ad6-8989-8f27935f8339",
   "metadata": {},
   "outputs": [],
   "source": [
    "### Sample data to move forward with ###\n",
    "dtypes = dict(\n",
    "        region_id=pd.StringDtype(),\n",
    "        region_name=pd.StringDtype(),\n",
    "        schema_name=pd.StringDtype(),\n",
    "        slack_team_id=pd.StringDtype(),\n",
    "        max_timestamp=pd.Float64Dtype(),\n",
    "        max_ts_edited=pd.Float64Dtype(),\n",
    "        beatdown_count=pd.Int16Dtype(),\n",
    "    )\n",
    "\n",
    "region_data = dict(slack_team_id=[\"\", \"\", \"\", \"\", \"\"],\n",
    "    region_id=[\"37\", \"24\", \"87\", \"100\", \"131\"],\n",
    "    schema_name=\"f3denver f3chicago f3naperville f3omaha f3stcharles\".split(),\n",
    "                   region_name=\"Denver Chicago Naperville Omaha St_Charles\".split(),\n",
    "                   max_timestamp=[1704815430.281659, 1704808955.413849, None, 1697642801.087519, 1704825215.550419],\n",
    "                   max_ts_edited=[1704815466, 1704724809, None, None, 1704825356],\n",
    "                   beatdown_count=[100, 100, 100, 100, 100]\n",
    "                  )\n",
    "df_regions = pd.DataFrame(region_data)"
   ]
  },
  {
   "cell_type": "code",
   "execution_count": 18,
   "id": "1fffd771-69cd-4f62-8125-cd11e86c4aed",
   "metadata": {},
   "outputs": [],
   "source": [
    "df_regions = df_regions.convert_dtypes()"
   ]
  },
  {
   "cell_type": "code",
   "execution_count": 19,
   "id": "b86f614b-caee-4ea7-87b5-c1573f54be13",
   "metadata": {},
   "outputs": [],
   "source": [
    "for r in df_regions.itertuples(index=False):\n",
    "    if r.schema_name == 'f3denver':\n",
    "        row = r"
   ]
  },
  {
   "cell_type": "code",
   "execution_count": 20,
   "id": "fa5aacc0-c995-4426-8e1a-30de6fe07d7c",
   "metadata": {},
   "outputs": [],
   "source": [
    "def pull_users(row: tuple[Any, ...], engine: Engine, metadata: MetaData) -> pd.DataFrame:\n",
    "    dtypes = dict(\n",
    "        slack_user_id=pd.StringDtype(), user_name=pd.StringDtype(), email=pd.StringDtype(), region_id=pd.StringDtype()\n",
    "    )\n",
    "    try:\n",
    "        usr = Table(\"users\", metadata, autoload_with=engine, schema=row.schema_name)\n",
    "    except Exception as e:\n",
    "        print(e)\n",
    "        return pd.DataFrame(columns=dtypes.keys())\n",
    "    \n",
    "    sql = select(\n",
    "        usr.c.user_id.label(\"slack_user_id\"),\n",
    "        usr.c.user_name,\n",
    "        usr.c.email,\n",
    "        literal_column(f\"'{row.region_id}'\").label(\"region_id\"),\n",
    "    )\n",
    "\n",
    "    with engine.begin() as cnxn:\n",
    "        df = pd.read_sql(sql, cnxn, dtype=dtypes)\n",
    "\n",
    "    return df"
   ]
  },
  {
   "cell_type": "code",
   "execution_count": 36,
   "id": "5c022e90-0f03-42cc-9520-dc43dd87a80a",
   "metadata": {},
   "outputs": [],
   "source": [
    "df_users_dup = pull_users(row, engine, metadata)"
   ]
  },
  {
   "cell_type": "code",
   "execution_count": 37,
   "id": "02f00f5b-c53a-4443-8005-15062d70fd81",
   "metadata": {},
   "outputs": [],
   "source": [
    "df_aos = pull_aos(row, engine, metadata)"
   ]
  },
  {
   "cell_type": "code",
   "execution_count": 38,
   "id": "969d37f9-b687-4c58-bc6b-7fd454ca06d2",
   "metadata": {},
   "outputs": [],
   "source": [
    "df_attendance = pull_attendance(row, engine, metadata)"
   ]
  },
  {
   "cell_type": "code",
   "execution_count": 39,
   "id": "496aeddb-8512-4dc6-b4fb-b43514e9f17d",
   "metadata": {},
   "outputs": [],
   "source": [
    "df_beatdowns = pull_beatdowns(row, engine, metadata)"
   ]
  },
  {
   "cell_type": "code",
   "execution_count": 40,
   "id": "d6c69b7d-0a67-4472-ac8f-7a860e99eaeb",
   "metadata": {},
   "outputs": [],
   "source": [
    "df_beatdowns.ts_edited = df_beatdowns.ts_edited.replace(\"NA\", pd.NA).astype(pd.Float64Dtype())"
   ]
  },
  {
   "cell_type": "code",
   "execution_count": 41,
   "id": "b1853a37-0d3e-4dba-bc09-9621e7731875",
   "metadata": {},
   "outputs": [],
   "source": [
    "#### building users ####\n",
    "\n",
    "cu = metadata.tables[\"weaselbot.combined_users\"]\n",
    "cud = metadata.tables[\"weaselbot.combined_users_dup\"]\n",
    "\n",
    "df_users_dup[\"email\"] = df_users_dup[\"email\"].str.lower()\n",
    "df_users_dup = df_users_dup[df_users_dup[\"email\"].notna()]\n",
    "\n",
    "df_user_agg = (\n",
    "    df_attendance.groupby([\"slack_user_id\"], as_index=False)[\"bd_date\"].count().rename({\"bd_date\": \"count\"}, axis=1)\n",
    ")\n",
    "df_users = (\n",
    "    df_users_dup.merge(df_user_agg[[\"slack_user_id\", \"count\"]], on=\"slack_user_id\", how=\"left\")\n",
    "    .fillna(0)\n",
    "    .sort_values(by=\"count\", ascending=False)\n",
    ")\n",
    "\n",
    "df_users.drop_duplicates(subset=[\"email\"], keep=\"first\", inplace=True)\n",
    "\n",
    "###\n",
    "df_home_region.rename(columns={\"user_name\": \"user_name_home\"}, inplace=True)\n",
    "df_users = df_users.merge(df_home_region[[\"user_name_home\", \"email\", \"home_region_id\"]], on=\"email\", how=\"left\")\n",
    "\n",
    "mask = df_users[\"home_region_id\"].isna()\n",
    "df_users.loc[mask, \"home_region_id\"] = df_users.loc[mask, \"region_id\"]\n",
    "\n",
    "df_users.loc[~df_users[\"user_name_home\"].isna(), \"user_name\"] = df_users[~df_users[\"user_name_home\"].isna()][\n",
    "    \"user_name_home\"\n",
    "]\n",
    "###\n",
    "\n",
    "dtypes = dict(\n",
    "    user_id=pd.StringDtype(), user_name=pd.StringDtype(), email=pd.StringDtype(), home_region_id=pd.StringDtype()\n",
    ")\n",
    "\n",
    "insert_values = (\n",
    "    df_users[[\"user_name\", \"email\", \"region_id\"]].rename({\"region_id\": \"home_region_id\"}, axis=1).to_dict(\"records\")\n",
    ")\n",
    "update_cols = (\"user_name\", \"email\", \"home_region_id\")\n",
    "user_insert_sql = insert_statement(cu, insert_values, update_cols)\n",
    "\n",
    "df_users = pd.read_sql(select(cu), engine, dtype=dtypes)\n",
    "df_users_dup = df_users_dup.merge(df_users[[\"email\", \"user_id\"]], on=\"email\", how=\"left\")"
   ]
  },
  {
   "cell_type": "code",
   "execution_count": null,
   "id": "8e6b7bc6-f99c-4309-b4b9-0b0e4122dc22",
   "metadata": {},
   "outputs": [],
   "source": [
    "print(sqlparse.format(user_insert_sql.compile(engine, compile_kwargs={'literal_binds': True}).__str__(), reindent=True, keyword_case='upper'))"
   ]
  },
  {
   "cell_type": "code",
   "execution_count": null,
   "id": "269b6fc7-6170-474b-9f07-cd0d21157c99",
   "metadata": {},
   "outputs": [],
   "source": [
    "#### build AOs ####\n",
    "\n",
    "ca = metadata.tables[\"weaselbot.combined_aos\"]\n",
    "insert_values = df_aos[[\"slack_channel_id\", \"ao_name\", \"region_id\"]].to_dict(\"records\")\n",
    "update_cols = (\"ao_name\",)\n",
    "aos_insert_sql = insert_statement(ca, insert_values, update_cols)\n",
    "\n",
    "dtypes = {\n",
    "        \"ao_id\": pd.StringDtype(),\n",
    "        \"slack_channel_id\": pd.StringDtype(),\n",
    "        \"ao_name\": pd.StringDtype(),\n",
    "        \"region_id\": pd.StringDtype(),\n",
    "    }\n",
    "\n",
    "df_aos = pd.read_sql(select(ca), engine, dtype=dtypes)"
   ]
  },
  {
   "cell_type": "code",
   "execution_count": null,
   "id": "8aa985ef-45e5-44eb-8116-229a5b95ae49",
   "metadata": {},
   "outputs": [],
   "source": [
    "print(sqlparse.format(aos_insert_sql.compile(engine, compile_kwargs={'literal_binds': True}).__str__(), reindent=True, keyword_case='upper'))"
   ]
  },
  {
   "cell_type": "code",
   "execution_count": null,
   "id": "612dc1ba-5c9b-4eb7-9435-5ab2b65516a0",
   "metadata": {},
   "outputs": [],
   "source": [
    "def extract_user_id(slack_user_id) -> NAType | str:\n",
    "    \"\"\"\n",
    "    Process Slack user ID's. Some of these are\n",
    "    not just simple user ID's. Clean them up\n",
    "    to standardize across the process.\n",
    "\n",
    "    :param slack_user_id: User ID from Slack\n",
    "    :type slack_user_id: str\n",
    "    :rtype: str | pandas.NA\n",
    "    :return: cleaned userid string.\n",
    "    \"\"\"\n",
    "\n",
    "    match isinstance(slack_user_id, type(pd.NA)):\n",
    "        case True:\n",
    "            return pd.NA\n",
    "        case _:\n",
    "            if slack_user_id.startswith(\"U\"):\n",
    "                return slack_user_id\n",
    "            elif \"team\" in slack_user_id:\n",
    "                return slack_user_id.split(\"/team/\")[1].split(\"|\")[0]"
   ]
  },
  {
   "cell_type": "code",
   "execution_count": null,
   "id": "d38ef6e2-df02-4fa8-b603-ec13fac6900d",
   "metadata": {},
   "outputs": [],
   "source": [
    "#### Build Beatdowns ####\n",
    "\n",
    "df_beatdowns[\"slack_q_user_id\"] = df_beatdowns[\"slack_q_user_id\"].apply(extract_user_id).astype(pd.StringDtype())\n",
    "df_beatdowns[\"slack_coq_user_id\"] = (\n",
    "    df_beatdowns[\"slack_coq_user_id\"].apply(extract_user_id).astype(pd.StringDtype())\n",
    ")\n",
    "\n",
    "cb = metadata.tables[\"weaselbot.combined_beatdowns\"]\n",
    "\n",
    "# find duplicate slack_user_ids on df_users_dup\n",
    "df_beatdowns = (\n",
    "    df_beatdowns.merge(\n",
    "        df_users_dup[[\"slack_user_id\", \"user_id\", \"region_id\"]],\n",
    "        left_on=[\"slack_q_user_id\", \"region_id\"],\n",
    "        right_on=[\"slack_user_id\", \"region_id\"],\n",
    "        how=\"left\",\n",
    "    )\n",
    "    .rename({\"user_id\": \"q_user_id\"}, axis=1)\n",
    "    .merge(\n",
    "        df_users_dup[[\"slack_user_id\", \"user_id\", \"region_id\"]],\n",
    "        left_on=[\"slack_coq_user_id\", \"region_id\"],\n",
    "        right_on=[\"slack_user_id\", \"region_id\"],\n",
    "        how=\"left\",\n",
    "    )\n",
    "    .rename({\"user_id\": \"coq_user_id\"}, axis=1)\n",
    "    .merge(\n",
    "        df_aos[[\"slack_channel_id\", \"ao_id\", \"region_id\"]],\n",
    "        on=[\"slack_channel_id\", \"region_id\"],\n",
    "        how=\"left\",\n",
    "    )\n",
    ")\n",
    "df_beatdowns[\"fng_count\"] = df_beatdowns[\"fng_count\"].fillna(0)\n",
    "\n",
    "insert_values = df_beatdowns[df_beatdowns[\"ao_id\"].notna()][\n",
    "    [\n",
    "        \"ao_id\",\n",
    "        \"bd_date\",\n",
    "        \"q_user_id\",\n",
    "        \"coq_user_id\",\n",
    "        \"pax_count\",\n",
    "        \"fng_count\",\n",
    "        \"timestamp\",\n",
    "        \"ts_edited\",\n",
    "        \"backblast\",\n",
    "        # \"json\",\n",
    "    ]\n",
    "].to_dict(\"records\")\n",
    "\n",
    "# below columns are INT in their target table. coerce them so they'll load properly\n",
    "# leaving them as strings in the dataframes for later ease in merges/joins\n",
    "# NOTE: YHC is unable to test the JSON datatype. Presumbaly, MySQL will want those\n",
    "# sent over as proper dictionaries and not string representations of dictionaries.\n",
    "# This is the role of `ast.literal_eval`. If that's not the case, then just remove\n",
    "# the `if` statement logic to keep them as strings.\n",
    "for d in insert_values:\n",
    "    for col in (\"ao_id\", \"q_user_id\", \"coq_user_id\"):\n",
    "        try:\n",
    "            d[col] = int(d[col])\n",
    "        except TypeError:\n",
    "            pass\n",
    "    # if d[\"json\"] is not None:\n",
    "    #     d[\"json\"] = ast.literal_eval(d[\"json\"])\n",
    "\n",
    "update_cols = (\"coq_user_id\", \"pax_count\", \"fng_count\", \"timestamp\", \"ts_edited\", \"backblast\")#, \"json\")\n",
    "\n",
    "beatdowns_insert_sql = insert_statement(cb, insert_values, update_cols)"
   ]
  },
  {
   "cell_type": "code",
   "execution_count": null,
   "id": "02224842-3eb6-441b-bf13-7f828210c7ed",
   "metadata": {},
   "outputs": [],
   "source": [
    "df_beatdowns.sort_values('bd_date', ascending=False)"
   ]
  },
  {
   "cell_type": "code",
   "execution_count": null,
   "id": "62465cb7-dc53-48cc-b7cb-69cc8bb2354f",
   "metadata": {},
   "outputs": [],
   "source": []
  },
  {
   "cell_type": "code",
   "execution_count": null,
   "id": "b4595c19-5f21-4ffc-b1ab-c134adc06a7e",
   "metadata": {},
   "outputs": [],
   "source": []
  },
  {
   "cell_type": "code",
   "execution_count": null,
   "id": "5ee8d0b2-e95a-4483-a313-d641fed2ea83",
   "metadata": {},
   "outputs": [],
   "source": []
  },
  {
   "cell_type": "code",
   "execution_count": null,
   "id": "4b51e409-6bbc-448d-820a-4bcac86b259f",
   "metadata": {},
   "outputs": [],
   "source": []
  },
  {
   "cell_type": "code",
   "execution_count": null,
   "id": "96c5d1a5-3de4-4899-87f8-be5de3dd3469",
   "metadata": {},
   "outputs": [],
   "source": [
    "print(sqlparse.format(beatdowns_insert_sql.compile(engine, compile_kwargs={'literal_binds': True}).__str__(), reindent=True, keyword_case='upper'))"
   ]
  },
  {
   "cell_type": "code",
   "execution_count": null,
   "id": "b70d3f7b-50d8-4cb9-b1be-f79e5365cb28",
   "metadata": {},
   "outputs": [],
   "source": []
  }
 ],
 "metadata": {
  "kernelspec": {
   "display_name": "weaselbot",
   "language": "python",
   "name": "weaselbot"
  },
  "language_info": {
   "codemirror_mode": {
    "name": "ipython",
    "version": 3
   },
   "file_extension": ".py",
   "mimetype": "text/x-python",
   "name": "python",
   "nbconvert_exporter": "python",
   "pygments_lexer": "ipython3",
   "version": "3.12.2"
  }
 },
 "nbformat": 4,
 "nbformat_minor": 5
}

{
 "cells": [
  {
   "cell_type": "code",
   "execution_count": 1,
   "id": "e48ec5a1-95e1-4660-8564-d67a26083b0a",
   "metadata": {},
   "outputs": [],
   "source": [
    "import math\n",
    "import os\n",
    "import ast\n",
    "\n",
    "import sqlparse\n",
    "import numpy as np\n",
    "import pandas as pd\n",
    "from sqlalchemy import MetaData, Table, literal_column, Column\n",
    "from sqlalchemy.sql import select, func, or_\n",
    "from sqlalchemy.dialects.mysql import insert\n",
    "from sqlalchemy.dialects.mysql.types import VARCHAR, TINYINT, TEXT\n",
    "\n",
    "from f3_data_builder import mysql_connection, region_queries, pull_main_data, build_users, build_aos, build_beatdowns, build_attendance"
   ]
  },
  {
   "cell_type": "code",
   "execution_count": 2,
   "id": "c6108b0c-aaa3-4e27-9604-ce40e6686d8a",
   "metadata": {},
   "outputs": [],
   "source": [
    "engine = mysql_connection()"
   ]
  },
  {
   "cell_type": "code",
   "execution_count": 3,
   "id": "f4a77584-1141-406f-a066-2f188615fcf4",
   "metadata": {},
   "outputs": [],
   "source": [
    "metadata = MetaData()\n",
    "metadata.reflect(engine, schema=\"weaselbot\")\n",
    "\n",
    "Table(\"regions\", \n",
    "      metadata, \n",
    "      Column(\"region\", VARCHAR(length=45), nullable=False, primary_key=True), \n",
    "      Column(\"slack_token\", VARCHAR(length=90), nullable=False),\n",
    "      Column(\"schema_name\", VARCHAR(length=45), nullable=True, default=None),\n",
    "      Column(\"active\", TINYINT(), default=1),\n",
    "      Column(\"firstf_channel\", VARCHAR(length=45), nullable=True, default=None),\n",
    "      Column(\"contact\", VARCHAR(length=45), nullable=True, default=None),\n",
    "      Column(\"send_pax_charts\", TINYINT(), default=0),\n",
    "      Column(\"send_ao_leaderboard\", TINYINT(), default=0),\n",
    "      Column(\"send_q_charts\", TINYINT(), default=0),\n",
    "      Column(\"send_region_leaderboard\", TINYINT(), default=0),\n",
    "      Column(\"send_region_uniquepax_chart\", TINYINT(), default=0),\n",
    "      Column(\"send_region_stats\", VARCHAR(length=45), default=0),\n",
    "      Column(\"send_mid_month_charts\", VARCHAR(length=45), default=0),\n",
    "      Column(\"comments\", TEXT()),\n",
    "      schema=\"paxminer\");"
   ]
  },
  {
   "cell_type": "code",
   "execution_count": 5,
   "id": "835819e6-a434-4a94-874b-8283c1ec41da",
   "metadata": {},
   "outputs": [
    {
     "name": "stdout",
     "output_type": "stream",
     "text": [
      "Table('regions', MetaData(), Column('region', VARCHAR(length=45), table=<regions>, primary_key=True, nullable=False), Column('slack_token', VARCHAR(length=90), table=<regions>, nullable=False), Column('schema_name', VARCHAR(length=45), table=<regions>), Column('active', TINYINT(), table=<regions>, default=ScalarElementColumnDefault(1)), Column('firstf_channel', VARCHAR(length=45), table=<regions>), Column('contact', VARCHAR(length=45), table=<regions>), Column('send_pax_charts', TINYINT(), table=<regions>, default=ScalarElementColumnDefault(0)), Column('send_ao_leaderboard', TINYINT(), table=<regions>, default=ScalarElementColumnDefault(0)), Column('send_q_charts', TINYINT(), table=<regions>, default=ScalarElementColumnDefault(0)), Column('send_region_leaderboard', TINYINT(), table=<regions>, default=ScalarElementColumnDefault(0)), Column('send_region_uniquepax_chart', TINYINT(), table=<regions>, default=ScalarElementColumnDefault(0)), Column('send_region_stats', VARCHAR(length=45), table=<regions>, default=ScalarElementColumnDefault(0)), Column('send_mid_month_charts', VARCHAR(length=45), table=<regions>, default=ScalarElementColumnDefault(0)), Column('comments', TEXT(), table=<regions>), schema='paxminer')\n",
      "Table('combined_regions', MetaData(), Column('region_id', INTEGER(), table=<combined_regions>, primary_key=True, nullable=False), Column('region_name', VARCHAR(length=45), table=<combined_regions>, nullable=False), Column('schema_name', VARCHAR(length=45), table=<combined_regions>, nullable=False), Column('slack_team_id', VARCHAR(length=20), table=<combined_regions>), Column('max_timestamp', DOUBLE(asdecimal=True), table=<combined_regions>), Column('max_ts_edited', DOUBLE(asdecimal=True), table=<combined_regions>), schema='weaselbot')\n",
      "Table('regions', MetaData(), Column('id', INTEGER(), table=<regions>, primary_key=True, nullable=False), Column('paxminer_schema', VARCHAR(length=100), table=<regions>, nullable=False), Column('slack_token', VARCHAR(length=100), table=<regions>, nullable=False), Column('send_achievements', TINYINT(), table=<regions>, nullable=False, server_default=DefaultClause(<sqlalchemy.sql.elements.TextClause object at 0x10fdf2c30>, for_update=False)), Column('send_aoq_reports', TINYINT(), table=<regions>, nullable=False, server_default=DefaultClause(<sqlalchemy.sql.elements.TextClause object at 0x10fdf2cf0>, for_update=False)), Column('achievement_channel', VARCHAR(length=100), table=<regions>, nullable=False), Column('default_siteq', VARCHAR(length=45), table=<regions>), schema='weaselbot')\n",
      "Table('test_json', MetaData(), Column('pax', VARCHAR(length=100), table=<test_json>), Column('date', DATE(), table=<test_json>), Column('extras', JSON(), table=<test_json>), schema='weaselbot')\n",
      "Table('combined_aos', MetaData(), Column('ao_id', INTEGER(), table=<combined_aos>, primary_key=True, nullable=False), Column('slack_channel_id', VARCHAR(length=45), table=<combined_aos>, nullable=False), Column('ao_name', VARCHAR(length=45), table=<combined_aos>, nullable=False), Column('region_id', INTEGER(), ForeignKey('weaselbot.combined_regions.region_id'), table=<combined_aos>, nullable=False), schema='weaselbot')\n",
      "Table('combined_users', MetaData(), Column('user_id', INTEGER(), table=<combined_users>, primary_key=True, nullable=False), Column('user_name', VARCHAR(length=45), table=<combined_users>, nullable=False), Column('email', VARCHAR(length=45), table=<combined_users>, nullable=False), Column('home_region_id', INTEGER(), ForeignKey('weaselbot.combined_regions.region_id'), table=<combined_users>, nullable=False), schema='weaselbot')\n",
      "Table('combined_beatdowns', MetaData(), Column('beatdown_id', INTEGER(), table=<combined_beatdowns>, primary_key=True, nullable=False), Column('ao_id', INTEGER(), ForeignKey('weaselbot.combined_aos.ao_id'), table=<combined_beatdowns>, nullable=False), Column('bd_date', DATE(), table=<combined_beatdowns>, nullable=False), Column('q_user_id', INTEGER(), ForeignKey('weaselbot.combined_users.user_id'), table=<combined_beatdowns>), Column('coq_user_id', INTEGER(), ForeignKey('weaselbot.combined_users.user_id'), table=<combined_beatdowns>), Column('pax_count', INTEGER(), table=<combined_beatdowns>), Column('fng_count', INTEGER(), table=<combined_beatdowns>), Column('timestamp', DOUBLE(asdecimal=True), table=<combined_beatdowns>), Column('ts_edited', DOUBLE(asdecimal=True), table=<combined_beatdowns>), Column('backblast', LONGTEXT(), table=<combined_beatdowns>), Column('json', JSON(), table=<combined_beatdowns>), schema='weaselbot')\n",
      "Table('combined_users_dup', MetaData(), Column('user_id_dup', INTEGER(), table=<combined_users_dup>, primary_key=True, nullable=False), Column('slack_user_id', VARCHAR(length=45), table=<combined_users_dup>), Column('user_name', VARCHAR(length=45), table=<combined_users_dup>, nullable=False), Column('email', VARCHAR(length=45), table=<combined_users_dup>, nullable=False), Column('region_id', INTEGER(), ForeignKey('weaselbot.combined_regions.region_id'), table=<combined_users_dup>, nullable=False), Column('user_id', INTEGER(), ForeignKey('weaselbot.combined_users.user_id'), table=<combined_users_dup>, nullable=False), schema='weaselbot')\n",
      "Table('combined_attendance', MetaData(), Column('attendance_id', INTEGER(), table=<combined_attendance>, primary_key=True, nullable=False), Column('beatdown_id', INTEGER(), ForeignKey('weaselbot.combined_beatdowns.beatdown_id'), table=<combined_attendance>, nullable=False), Column('user_id', INTEGER(), ForeignKey('weaselbot.combined_users.user_id'), table=<combined_attendance>, nullable=False), Column('json', JSON(), table=<combined_attendance>), schema='weaselbot')\n"
     ]
    }
   ],
   "source": [
    "for table in metadata.sorted_tables:\n",
    "    print(table.__repr__())"
   ]
  },
  {
   "cell_type": "code",
   "execution_count": 5,
   "id": "c093b425-e314-4f73-bdd1-84c8353b8ed1",
   "metadata": {},
   "outputs": [],
   "source": [
    "cr = metadata.tables[\"weaselbot.combined_regions\"]\n",
    "cu = metadata.tables[\"weaselbot.combined_users\"]\n",
    "cud = metadata.tables[\"weaselbot.combined_users_dup\"]\n",
    "ca = metadata.tables[\"weaselbot.combined_aos\"]\n",
    "cb = metadata.tables[\"weaselbot.combined_beatdowns\"]\n",
    "catt = metadata.tables[\"weaselbot.combined_attendance\"]"
   ]
  },
  {
   "cell_type": "code",
   "execution_count": 6,
   "id": "9abd02ac-4cb5-4186-a201-575dcdce6f31",
   "metadata": {},
   "outputs": [],
   "source": [
    "def insert_statement(table, insert_values, update_cols):\n",
    "    sql = insert(table).values(insert_values)\n",
    "    on_dup = sql.on_duplicate_key_update(\n",
    "        {v.name: v for v in sql.inserted if v.name in update_cols}\n",
    "    )\n",
    "    return on_dup"
   ]
  },
  {
   "cell_type": "code",
   "execution_count": 7,
   "id": "a85bd8b3-b7e5-4b4f-99c6-abc8ff64011a",
   "metadata": {},
   "outputs": [],
   "source": [
    "def region_subquery(metadata):\n",
    "    cb = metadata.tables[\"weaselbot.combined_beatdowns\"]\n",
    "    a = metadata.tables[\"weaselbot.combined_aos\"]\n",
    "\n",
    "    sql = select(\n",
    "        a.c.region_id,\n",
    "        func.max(cb.c.timestamp).label(\"max_timestamp\"),\n",
    "        func.max(cb.c.ts_edited).label(\"max_ts_edited\"),\n",
    "        func.count().label(\"beatdown_count\"),\n",
    "    )\n",
    "    sql = sql.select_from(cb.join(a, cb.c.ao_id == a.c.ao_id))\n",
    "    sql = sql.group_by(a.c.region_id).subquery(\"b\")\n",
    "    return sql"
   ]
  },
  {
   "cell_type": "code",
   "execution_count": 8,
   "id": "90eaa192-73df-4a09-9a4c-d20cfe6b7911",
   "metadata": {},
   "outputs": [],
   "source": [
    "def paxminer_region_query(metadata):\n",
    "    r = metadata.tables[\"paxminer.regions\"]\n",
    "    cr = metadata.tables[\"weaselbot.combined_regions\"]\n",
    "    sub = region_subquery(metadata)\n",
    "\n",
    "    sql = select(\n",
    "        r.c.schema_name,\n",
    "        r.c.region.label(\"region_name\"),\n",
    "        sub.c.max_timestamp,\n",
    "        sub.c.max_ts_edited,\n",
    "        sub.c.beatdown_count,\n",
    "        cr.c.region_id,\n",
    "    )\n",
    "    sql = sql.select_from(\n",
    "        r.outerjoin(cr, r.c.schema_name == cr.c.schema_name).outerjoin(sub, cr.c.region_id == sub.c.region_id)\n",
    "    )\n",
    "\n",
    "    return sql"
   ]
  },
  {
   "cell_type": "code",
   "execution_count": 9,
   "id": "8ba1d187-0cc6-4312-88bc-c0c55ab4d937",
   "metadata": {},
   "outputs": [],
   "source": [
    "def weaselbot_region_query(metadata):\n",
    "    cr = metadata.tables[\"weaselbot.combined_regions\"]\n",
    "    sub = region_subquery(metadata)\n",
    "\n",
    "    sql = select(cr, sub.c.beatdown_count)\n",
    "    sql = sql.select_from(cr.outerjoin(sub, cr.c.region_id == sub.c.region_id))\n",
    "\n",
    "    return sql"
   ]
  },
  {
   "cell_type": "code",
   "execution_count": 10,
   "id": "e7de42a6-6bea-4e12-b966-d2a7c84b91f2",
   "metadata": {},
   "outputs": [],
   "source": [
    "paxminer_region_sql = paxminer_region_query(metadata) # verified\n",
    "weaselbot_region_sql = weaselbot_region_query(metadata) # verified"
   ]
  },
  {
   "cell_type": "code",
   "execution_count": 11,
   "id": "55c0bf51-d32c-4ad6-8989-8f27935f8339",
   "metadata": {},
   "outputs": [],
   "source": [
    "### Sample data to move forward with ###\n",
    "\n",
    "region_data = dict(schema_name=\"f3alamo f3chicago f3naperville f3omaha f3stcharles\".split(),\n",
    "                   region_name=\"Alamo Chicago Naperville Omaha St_Charles\".split(),\n",
    "                   max_timestamp=[1704824582.100129, 1704808955.413849, None, 1697642801.087519, 1704825215.550419],\n",
    "                   max_ts_edited=[1704824731, 1704724809, None, None, 1704825356]\n",
    "                  )\n",
    "df_regions = pd.DataFrame(region_data)"
   ]
  },
  {
   "cell_type": "code",
   "execution_count": 12,
   "id": "233608b2-a4fc-499d-a05d-a3d2c67a8a80",
   "metadata": {},
   "outputs": [],
   "source": [
    "insert_values = df_regions.to_dict(\"records\")\n",
    "update_cols = (\"region_name\", \"max_timestamp\", \"max_ts_edited\")\n",
    "region_insert_sql = insert_statement(cr, insert_values, update_cols)"
   ]
  },
  {
   "cell_type": "code",
   "execution_count": null,
   "id": "f36db3ac-6162-43a8-b5b2-c89e57050e76",
   "metadata": {},
   "outputs": [],
   "source": [
    "# print(sqlparse.format(region_insert_sql.compile(engine, compile_kwargs={\"literal_binds\": True}).__str__(), keyword_case=\"upper\", reindent=True))"
   ]
  },
  {
   "cell_type": "code",
   "execution_count": 13,
   "id": "f5215e12-2ce7-4808-a6ed-2e2ac94f23a0",
   "metadata": {},
   "outputs": [],
   "source": [
    "dtypes = dict(\n",
    "    region_id=pd.StringDtype(),  # this is a string everywhere else\n",
    "    region_name=pd.StringDtype(),\n",
    "    schema_name=pd.StringDtype(),\n",
    "    slack_team_id=pd.StringDtype(),\n",
    "    max_timestamp=pd.Float64Dtype(),\n",
    "    max_ts_edited=pd.Float64Dtype(),\n",
    "    beatdown_count=pd.Int16Dtype()\n",
    ")\n",
    "\n",
    "with engine.begin() as cnxn:\n",
    "    df_regions = pd.read_sql(weaselbot_region_sql, cnxn, dtype=dtypes)"
   ]
  },
  {
   "cell_type": "code",
   "execution_count": 14,
   "id": "b648973a-fc78-4451-ba58-a478d4e5d020",
   "metadata": {
    "scrolled": true
   },
   "outputs": [
    {
     "name": "stdout",
     "output_type": "stream",
     "text": [
      "starting f3alamo... Done\n",
      "starting f3albany... Done\n",
      "starting f3albuquerque... Done\n",
      "starting f3alliance... Done\n",
      "starting f3anderson... Done\n",
      "starting f3annapolis... Done\n",
      "starting f3atlanta... Done\n",
      "starting f3austin... Done\n",
      "starting f3badlands... Done\n",
      "starting f3beast... Done\n",
      "starting f3bellingham... Done\n",
      "starting f3blueridge... Done\n",
      "starting f3borderlands... Done\n",
      "starting f3brentwood... Done\n",
      "starting f3bruco... Done\n",
      "starting f3youngsville... Done\n",
      "starting f3carpex... Done\n",
      "starting f3centralarkansas... Done\n",
      "starting f3central_il... Done\n",
      "starting f3charleston... Done\n",
      "starting f3charlottesville... Done\n",
      "starting f3cherokee... Done\n",
      "starting f3cheyenne... Done\n",
      "starting f3chicago... Done\n",
      "starting f3churham... Done\n",
      "starting f3clearwater... Done\n",
      "starting f3cleburne... Done\n",
      "starting f3cleveland... Done\n",
      "starting f3coloradosprings... Done\n",
      "starting f3columbia... Done\n",
      "starting f3columbus... Done\n",
      "starting f3dallas... Done\n",
      "starting f3davidson... Done\n",
      "starting f3dayton... Done\n",
      "starting f3delhi_ncr... Done\n",
      "starting f3delmar... Done\n",
      "starting f3denver... Done\n",
      "starting f3desmoines... Done\n",
      "starting f3devcommunity... Done\n",
      "starting f3durango... Done\n",
      "starting f3enc... Done\n",
      "starting f3evansville... Done\n",
      "starting f3expedition... Done\n",
      "starting f3fargo... Done\n",
      "starting fia_naperville... \n",
      "(mysql.connector.errors.ProgrammingError) 1142 (42000): SHOW command denied to user 'f3chicago'@'136.30.89.84' for table 'users'\n",
      "[SQL: SHOW CREATE TABLE `fia_naperville`.`users`]\n",
      "(Background on this error at: https://sqlalche.me/e/20/f405)\n",
      "Done\n",
      "starting fia_omaha... \n",
      "(mysql.connector.errors.ProgrammingError) 1142 (42000): SHOW command denied to user 'f3chicago'@'136.30.89.84' for table 'users'\n",
      "[SQL: SHOW CREATE TABLE `fia_omaha`.`users`]\n",
      "(Background on this error at: https://sqlalche.me/e/20/f405)\n",
      "Done\n",
      "starting fia_sanford... \n",
      "(mysql.connector.errors.ProgrammingError) 1142 (42000): SHOW command denied to user 'f3chicago'@'136.30.89.84' for table 'users'\n",
      "[SQL: SHOW CREATE TABLE `fia_sanford`.`users`]\n",
      "(Background on this error at: https://sqlalche.me/e/20/f405)\n",
      "Done\n",
      "starting f3florence... Done\n",
      "starting f3flomo... Done\n",
      "starting f3foothills... Done\n",
      "starting f3forsyth... Done\n",
      "starting f3fortcollins... Done\n",
      "starting f3fortworth... Done\n",
      "starting f3franklin... Done\n",
      "starting f3geneva... Done\n",
      "starting f3glacier... Done\n",
      "starting f3gwinnett... Done\n",
      "starting f3hillcountry... Done\n",
      "starting f3houston... Done\n",
      "starting f3hr... Done\n",
      "starting f3huntsville... Done\n",
      "starting f3indianapolis... Done\n",
      "starting f3indianvalley... Done\n",
      "starting f3jackson... Done\n",
      "starting f3jacksontn... Done\n",
      "starting f3jax... Done\n",
      "starting f3jeffco... Done\n",
      "starting f3katy... Done\n",
      "starting f3kc... Done\n",
      "starting f3kcmo... Done\n",
      "starting f3kingsden... Done\n",
      "starting f3kinston... Done\n",
      "starting f3knoxville... Done\n",
      "starting f3lakewylie... Done\n",
      "starting f3lexington... Done\n",
      "starting f3louisville... Done\n",
      "starting f3lubbock... Done\n",
      "starting f3macon... Done\n",
      "starting f3marshall... Done\n",
      "starting f3meca... Done\n",
      "starting f3memphis... Done\n",
      "starting f3minthill... Done\n",
      "starting f3monterey... Done\n",
      "starting f3morris... Done\n",
      "starting f3muletown... Done\n",
      "starting f3murfreesboro... Done\n",
      "starting f3naperville... Done\n",
      "starting f3nashville... Done\n",
      "starting f3newbern... Done\n",
      "starting f3ne_wake... Done\n",
      "starting f3noga... Done\n",
      "starting f3noho... Done\n",
      "starting f3nola... Done\n",
      "starting f3nolensville... Done\n",
      "starting f3northlake... Done\n",
      "starting f3nwarkansas... Done\n",
      "starting f3nwhighway... Done\n",
      "starting f3northsandiego... Done\n",
      "starting f3ocoee... Done\n",
      "starting f3omaha... Done\n",
      "starting f3orlando... Done\n",
      "starting f3parkercounty... Done\n",
      "starting f3pensacola... Done\n",
      "starting f3phoenix... Done\n",
      "starting f3pittsburgh... Done\n",
      "starting f3crossroads... Done\n",
      "starting f3portland... Done\n",
      "starting f3princeton... Done\n",
      "starting f3pugetsound... Done\n",
      "starting f3racecity... Done\n",
      "starting f3raleigh... Done\n",
      "starting f3rapidcity... Done\n",
      "starting f3roanoke... Done\n",
      "starting f3rockhill... Done\n",
      "starting f3roco... Done\n",
      "starting f3slc... Done\n",
      "starting f3sandhills... Done\n",
      "starting f3sclt... Done\n",
      "starting f3shoals... Done\n",
      "starting f3smokies... Done\n",
      "starting f3soco... Done\n",
      "starting f3soil... Done\n",
      "starting f3southcary... Done\n",
      "starting f3southsound... Done\n",
      "starting f3sowmo... Done\n",
      "starting f3spiritofstl... Done\n",
      "starting f3springhill... Done\n",
      "starting f3stl... Done\n",
      "starting f3stlcity... Done\n",
      "starting f3stlmeramec... Done\n",
      "starting f3stcharles... Done\n",
      "starting f3stpete... Done\n",
      "starting f3stsimons... Done\n",
      "starting f3suncoast... Done\n",
      "starting f3ttown... \n",
      "could not convert string to float: '': Error while type casting for column 'timestamp'\n",
      "Done\n",
      "starting f3tallahassee... Done\n",
      "starting f3tampa... Done\n",
      "starting f3techtown... Done\n",
      "starting f3thailand... Done\n",
      "starting f3thecapital... Done\n",
      "starting f3thechuck... Done\n",
      "starting f3thefort... Done\n",
      "starting f3thejunction... Done\n",
      "starting f3thespark... Done\n",
      "starting f3theunion... Done\n",
      "starting f3tornadoalley... Done\n",
      "starting f3tuscon... Done\n",
      "starting f3twincities... Done\n",
      "starting f3waco... Done\n",
      "starting f3washmo... Done\n",
      "starting f3waxahachie... Done\n",
      "starting f3waxhaw... Done\n",
      "starting f3westcobb... Done\n",
      "starting f3westhouston... Done\n",
      "starting f3westindy... Done\n",
      "starting f3westshore... Done\n",
      "starting f3wheaton... Done\n",
      "starting f3wichita... Done\n",
      "starting f3wilson... Done\n",
      "starting f3dc... \n",
      "(mysql.connector.errors.ProgrammingError) 1049 (42000): Unknown database 'f3dc'\n",
      "[SQL: SHOW CREATE TABLE `f3dc`.`users`]\n",
      "(Background on this error at: https://sqlalche.me/e/20/f405)\n",
      "Done\n",
      "starting f3mobile... Done\n",
      "starting f3snacktown... Done\n",
      "starting f3se_michigan... Done\n",
      "starting f3nyon... Done\n",
      "starting f3lowcountry... Done\n",
      "starting fia_temecula... \n",
      "(mysql.connector.errors.ProgrammingError) 1142 (42000): SHOW command denied to user 'f3chicago'@'136.30.89.84' for table 'users'\n",
      "[SQL: SHOW CREATE TABLE `fia_temecula`.`users`]\n",
      "(Background on this error at: https://sqlalche.me/e/20/f405)\n",
      "Done\n",
      "starting f3temecula... Done\n",
      "starting f3thomasville... Done\n"
     ]
    }
   ],
   "source": [
    "df_users_dup, df_aos, df_beatdowns, df_attendance = pull_main_data(df_regions, engine, metadata)"
   ]
  },
  {
   "cell_type": "code",
   "execution_count": 15,
   "id": "4bdd6a04-8992-4c9a-a2d5-7e5bc52b9e2e",
   "metadata": {},
   "outputs": [
    {
     "name": "stdout",
     "output_type": "stream",
     "text": [
      "beatdowns to process: 75967\n"
     ]
    }
   ],
   "source": [
    "print(f\"beatdowns to process: {len(df_beatdowns)}\")"
   ]
  },
  {
   "cell_type": "code",
   "execution_count": 16,
   "id": "d0e322cf-aba0-4992-80ca-9b5e2d369f43",
   "metadata": {},
   "outputs": [
    {
     "name": "stdout",
     "output_type": "stream",
     "text": [
      "building users...\n"
     ]
    }
   ],
   "source": [
    "df_users_dup = build_users(df_users_dup, df_attendance, engine, metadata)"
   ]
  },
  {
   "cell_type": "code",
   "execution_count": 17,
   "id": "975b07ff-fc87-491a-8f93-a9bb77a8e839",
   "metadata": {},
   "outputs": [
    {
     "name": "stdout",
     "output_type": "stream",
     "text": [
      "building aos...\n"
     ]
    }
   ],
   "source": [
    "df_aos = build_aos(df_aos, engine, metadata)"
   ]
  },
  {
   "cell_type": "code",
   "execution_count": 20,
   "id": "e64da7e4-22e7-44d0-9cc5-15cd22a5b950",
   "metadata": {},
   "outputs": [
    {
     "name": "stdout",
     "output_type": "stream",
     "text": [
      "building beatdowns...\n"
     ]
    }
   ],
   "source": [
    "df_beatdowns = build_beatdowns(df_beatdowns, df_users_dup, df_aos, engine, metadata)"
   ]
  },
  {
   "cell_type": "code",
   "execution_count": 26,
   "id": "0fb9d3a8-a0e2-4fca-a86f-9790bb933050",
   "metadata": {},
   "outputs": [
    {
     "name": "stdout",
     "output_type": "stream",
     "text": [
      "building attendance...\n"
     ]
    }
   ],
   "source": [
    "build_attendance(df_attendance, df_users_dup, df_aos, df_beatdowns, engine, metadata)"
   ]
  },
  {
   "cell_type": "code",
   "execution_count": 27,
   "id": "6fa13d2e-8b83-49e4-891f-c5e2b46f3b44",
   "metadata": {},
   "outputs": [],
   "source": [
    "engine.dispose()"
   ]
  },
  {
   "cell_type": "code",
   "execution_count": null,
   "id": "cd2263b3-264a-45c5-a622-51d752b5892c",
   "metadata": {},
   "outputs": [],
   "source": []
  },
  {
   "cell_type": "code",
   "execution_count": null,
   "id": "995b8ba2-d7fb-495e-8a64-4959d47da31e",
   "metadata": {},
   "outputs": [],
   "source": []
  }
 ],
 "metadata": {
  "kernelspec": {
   "display_name": "weaselbot",
   "language": "python",
   "name": "weaselbot"
  },
  "language_info": {
   "codemirror_mode": {
    "name": "ipython",
    "version": 3
   },
   "file_extension": ".py",
   "mimetype": "text/x-python",
   "name": "python",
   "nbconvert_exporter": "python",
   "pygments_lexer": "ipython3",
   "version": "3.12.1"
  }
 },
 "nbformat": 4,
 "nbformat_minor": 5
}

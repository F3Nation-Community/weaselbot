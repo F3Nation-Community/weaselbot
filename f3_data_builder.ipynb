{
 "cells": [
  {
   "cell_type": "code",
   "execution_count": 1,
   "id": "e48ec5a1-95e1-4660-8564-d67a26083b0a",
   "metadata": {},
   "outputs": [],
   "source": [
    "import math\n",
    "import os\n",
    "import ast\n",
    "\n",
    "import sqlparse\n",
    "import numpy as np\n",
    "import pandas as pd\n",
    "from sqlalchemy import MetaData, Table, literal_column, Column\n",
    "from sqlalchemy.sql import select, func, or_\n",
    "from sqlalchemy.dialects.mysql import insert\n",
    "from sqlalchemy.dialects.mysql.types import VARCHAR, TINYINT, TEXT\n",
    "\n",
    "from f3_data_builder import mysql_connection, region_queries, pull_beatdowns, build_users, build_aos, build_beatdowns, build_attendance"
   ]
  },
  {
   "cell_type": "code",
   "execution_count": 2,
   "id": "1e113ed2-058b-472f-84fa-adde32e8f8eb",
   "metadata": {},
   "outputs": [],
   "source": [
    "from typing import Any, Tuple, Hashable, Iterable\n",
    "from sqlalchemy.engine import Engine\n",
    "from pandas._libs.missing import NAType\n",
    "from _mysql_connector import MySQLInterfaceError"
   ]
  },
  {
   "cell_type": "code",
   "execution_count": 3,
   "id": "c6108b0c-aaa3-4e27-9604-ce40e6686d8a",
   "metadata": {},
   "outputs": [],
   "source": [
    "engine = mysql_connection()"
   ]
  },
  {
   "cell_type": "code",
   "execution_count": 4,
   "id": "f4a77584-1141-406f-a066-2f188615fcf4",
   "metadata": {},
   "outputs": [],
   "source": [
    "metadata = MetaData()\n",
    "metadata.reflect(engine, schema=\"weaselbot\")\n",
    "\n",
    "Table(\"regions\", \n",
    "      metadata, \n",
    "      Column(\"region\", VARCHAR(length=45), nullable=False, primary_key=True), \n",
    "      Column(\"slack_token\", VARCHAR(length=90), nullable=False),\n",
    "      Column(\"schema_name\", VARCHAR(length=45), nullable=True, default=None),\n",
    "      Column(\"active\", TINYINT(), default=1),\n",
    "      Column(\"firstf_channel\", VARCHAR(length=45), nullable=True, default=None),\n",
    "      Column(\"contact\", VARCHAR(length=45), nullable=True, default=None),\n",
    "      Column(\"send_pax_charts\", TINYINT(), default=0),\n",
    "      Column(\"send_ao_leaderboard\", TINYINT(), default=0),\n",
    "      Column(\"send_q_charts\", TINYINT(), default=0),\n",
    "      Column(\"send_region_leaderboard\", TINYINT(), default=0),\n",
    "      Column(\"send_region_uniquepax_chart\", TINYINT(), default=0),\n",
    "      Column(\"send_region_stats\", VARCHAR(length=45), default=0),\n",
    "      Column(\"send_mid_month_charts\", VARCHAR(length=45), default=0),\n",
    "      Column(\"comments\", TEXT()),\n",
    "      schema=\"paxminer\");"
   ]
  },
  {
   "cell_type": "code",
   "execution_count": null,
   "id": "835819e6-a434-4a94-874b-8283c1ec41da",
   "metadata": {},
   "outputs": [],
   "source": [
    "for table in metadata.sorted_tables:\n",
    "    print(table.__repr__())"
   ]
  },
  {
   "cell_type": "code",
   "execution_count": null,
   "id": "c093b425-e314-4f73-bdd1-84c8353b8ed1",
   "metadata": {},
   "outputs": [],
   "source": [
    "cr = metadata.tables[\"weaselbot.combined_regions\"]\n",
    "cu = metadata.tables[\"weaselbot.combined_users\"]\n",
    "cud = metadata.tables[\"weaselbot.combined_users_dup\"]\n",
    "ca = metadata.tables[\"weaselbot.combined_aos\"]\n",
    "cb = metadata.tables[\"weaselbot.combined_beatdowns\"]\n",
    "catt = metadata.tables[\"weaselbot.combined_attendance\"]"
   ]
  },
  {
   "cell_type": "code",
   "execution_count": null,
   "id": "9abd02ac-4cb5-4186-a201-575dcdce6f31",
   "metadata": {},
   "outputs": [],
   "source": [
    "def insert_statement(table, insert_values, update_cols):\n",
    "    sql = insert(table).values(insert_values)\n",
    "    on_dup = sql.on_duplicate_key_update(\n",
    "        {v.name: v for v in sql.inserted if v.name in update_cols}\n",
    "    )\n",
    "    return on_dup"
   ]
  },
  {
   "cell_type": "code",
   "execution_count": null,
   "id": "a85bd8b3-b7e5-4b4f-99c6-abc8ff64011a",
   "metadata": {},
   "outputs": [],
   "source": [
    "def region_subquery(metadata):\n",
    "    cb = metadata.tables[\"weaselbot.combined_beatdowns\"]\n",
    "    a = metadata.tables[\"weaselbot.combined_aos\"]\n",
    "\n",
    "    sql = select(\n",
    "        a.c.region_id,\n",
    "        func.max(cb.c.timestamp).label(\"max_timestamp\"),\n",
    "        func.max(cb.c.ts_edited).label(\"max_ts_edited\"),\n",
    "        func.count().label(\"beatdown_count\"),\n",
    "    )\n",
    "    sql = sql.select_from(cb.join(a, cb.c.ao_id == a.c.ao_id))\n",
    "    sql = sql.group_by(a.c.region_id).subquery(\"b\")\n",
    "    return sql"
   ]
  },
  {
   "cell_type": "code",
   "execution_count": null,
   "id": "90eaa192-73df-4a09-9a4c-d20cfe6b7911",
   "metadata": {},
   "outputs": [],
   "source": [
    "def paxminer_region_query(metadata):\n",
    "    r = metadata.tables[\"paxminer.regions\"]\n",
    "    cr = metadata.tables[\"weaselbot.combined_regions\"]\n",
    "    sub = region_subquery(metadata)\n",
    "\n",
    "    sql = select(\n",
    "        r.c.schema_name,\n",
    "        r.c.region.label(\"region_name\"),\n",
    "        sub.c.max_timestamp,\n",
    "        sub.c.max_ts_edited,\n",
    "        sub.c.beatdown_count,\n",
    "        cr.c.region_id,\n",
    "    )\n",
    "    sql = sql.select_from(\n",
    "        r.outerjoin(cr, r.c.schema_name == cr.c.schema_name).outerjoin(sub, cr.c.region_id == sub.c.region_id)\n",
    "    )\n",
    "\n",
    "    return sql"
   ]
  },
  {
   "cell_type": "code",
   "execution_count": null,
   "id": "8ba1d187-0cc6-4312-88bc-c0c55ab4d937",
   "metadata": {},
   "outputs": [],
   "source": [
    "def weaselbot_region_query(metadata):\n",
    "    cr = metadata.tables[\"weaselbot.combined_regions\"]\n",
    "    sub = region_subquery(metadata)\n",
    "\n",
    "    sql = select(cr, sub.c.beatdown_count)\n",
    "    sql = sql.select_from(cr.outerjoin(sub, cr.c.region_id == sub.c.region_id))\n",
    "\n",
    "    return sql"
   ]
  },
  {
   "cell_type": "code",
   "execution_count": null,
   "id": "e7de42a6-6bea-4e12-b966-d2a7c84b91f2",
   "metadata": {},
   "outputs": [],
   "source": [
    "paxminer_region_sql = paxminer_region_query(metadata) # verified\n",
    "weaselbot_region_sql = weaselbot_region_query(metadata) # verified"
   ]
  },
  {
   "cell_type": "code",
   "execution_count": null,
   "id": "55c0bf51-d32c-4ad6-8989-8f27935f8339",
   "metadata": {},
   "outputs": [],
   "source": [
    "### Sample data to move forward with ###\n",
    "\n",
    "region_data = dict(schema_name=\"f3alamo f3chicago f3naperville f3omaha f3stcharles\".split(),\n",
    "                   region_name=\"Alamo Chicago Naperville Omaha St_Charles\".split(),\n",
    "                   max_timestamp=[1704824582.100129, 1704808955.413849, None, 1697642801.087519, 1704825215.550419],\n",
    "                   max_ts_edited=[1704824731, 1704724809, None, None, 1704825356]\n",
    "                  )\n",
    "df_regions = pd.DataFrame(region_data)"
   ]
  },
  {
   "cell_type": "code",
   "execution_count": null,
   "id": "233608b2-a4fc-499d-a05d-a3d2c67a8a80",
   "metadata": {},
   "outputs": [],
   "source": [
    "insert_values = df_regions.to_dict(\"records\")\n",
    "update_cols = (\"region_name\", \"max_timestamp\", \"max_ts_edited\")\n",
    "region_insert_sql = insert_statement(cr, insert_values, update_cols)"
   ]
  },
  {
   "cell_type": "code",
   "execution_count": null,
   "id": "f36db3ac-6162-43a8-b5b2-c89e57050e76",
   "metadata": {},
   "outputs": [],
   "source": [
    "# print(sqlparse.format(region_insert_sql.compile(engine, compile_kwargs={\"literal_binds\": True}).__str__(), keyword_case=\"upper\", reindent=True))"
   ]
  },
  {
   "cell_type": "code",
   "execution_count": 5,
   "id": "db79b92d-e7a4-4154-9779-b2fa74574972",
   "metadata": {},
   "outputs": [],
   "source": [
    "from collections import namedtuple\n",
    "from sqlalchemy import text"
   ]
  },
  {
   "cell_type": "code",
   "execution_count": 6,
   "id": "bb1905dc-61d2-4408-a954-2c9ed734a9e9",
   "metadata": {},
   "outputs": [],
   "source": [
    "Row = namedtuple(\"Row\", [\"region_id\", \"schema_name\", \"max_timestamp\", \"max_ts_edited\"])\n",
    "row1 = Row(18, \"f3chicago\", 1671647384.278359, 1671647542)\n",
    "row2 = Row(18, \"f3chicago\", 1671647384.278359, pd.NA)\n",
    "row3 = Row(18, \"f3chicago\", pd.NA, pd.NA)"
   ]
  },
  {
   "cell_type": "code",
   "execution_count": 7,
   "id": "438030bc-69cb-41bb-be9e-79cedcbf430e",
   "metadata": {},
   "outputs": [],
   "source": [
    "dtypes = dict(\n",
    "        slack_channel_id=pd.StringDtype(),\n",
    "        slack_q_user_id=pd.StringDtype(),\n",
    "        slack_coq_user_id=pd.StringDtype(),\n",
    "        pax_count=pd.Int16Dtype(),\n",
    "        fng_count=pd.Int16Dtype(),\n",
    "        region_id=pd.StringDtype(),\n",
    "        timestamp=pd.Float64Dtype(),\n",
    "        ts_edited=pd.StringDtype(),\n",
    "        backblast=pd.StringDtype(),\n",
    "        json=pd.StringDtype(storage=\"pyarrow\"),\n",
    "    )"
   ]
  },
  {
   "cell_type": "code",
   "execution_count": 8,
   "id": "466b307e-c179-4bc4-83f0-6a855916442b",
   "metadata": {},
   "outputs": [],
   "source": [
    "df = pull_beatdowns(row1, engine, metadata)\n",
    "base_sql = f\"SELECT ao_id as slack_channel_id, bd_date, q_user_id as slack_q_user_id, coq_user_id as slack_coq_user_id, pax_count, fng_count, '{row1.region_id}' AS region_id, timestamp, ts_edited, backblast, json FROM {row1.schema_name}.beatdowns WHERE timestamp > {row1.max_timestamp} OR ts_edited > {row1.max_ts_edited};\"\n",
    "with engine.begin() as cnxn:\n",
    "    df_base = pd.read_sql(text(base_sql), cnxn, dtype=dtypes)"
   ]
  },
  {
   "cell_type": "code",
   "execution_count": 13,
   "id": "616518f9-5c38-40e5-b8ac-4abcff60c644",
   "metadata": {},
   "outputs": [
    {
     "data": {
      "text/plain": [
       "1.0"
      ]
     },
     "execution_count": 13,
     "metadata": {},
     "output_type": "execute_result"
    }
   ],
   "source": [
    "(df_base == df).fillna(True).mean().mean()"
   ]
  },
  {
   "cell_type": "code",
   "execution_count": 9,
   "id": "42c46d13-9eaf-4158-8c63-22ccf6ef969a",
   "metadata": {},
   "outputs": [
    {
     "data": {
      "text/plain": [
       "'{\"files\": [\"https://slackblast-images.s3.amazonaws.com/F06E2UD2RQB.jpg\"]}'"
      ]
     },
     "execution_count": 9,
     "metadata": {},
     "output_type": "execute_result"
    }
   ],
   "source": [
    "df_base.iloc[13,:].json"
   ]
  },
  {
   "cell_type": "code",
   "execution_count": 10,
   "id": "9fa76170-3069-40d7-bba1-ebb2e9a3e9cb",
   "metadata": {},
   "outputs": [
    {
     "data": {
      "text/plain": [
       "'{\"files\": [\"https://slackblast-images.s3.amazonaws.com/F06E2UD2RQB.jpg\"]}'"
      ]
     },
     "execution_count": 10,
     "metadata": {},
     "output_type": "execute_result"
    }
   ],
   "source": [
    "df.iloc[13,:].json"
   ]
  },
  {
   "cell_type": "code",
   "execution_count": null,
   "id": "f5215e12-2ce7-4808-a6ed-2e2ac94f23a0",
   "metadata": {},
   "outputs": [],
   "source": [
    "dtypes = dict(\n",
    "    region_id=pd.StringDtype(),  # this is a string everywhere else\n",
    "    region_name=pd.StringDtype(),\n",
    "    schema_name=pd.StringDtype(),\n",
    "    slack_team_id=pd.StringDtype(),\n",
    "    max_timestamp=pd.Float64Dtype(),\n",
    "    max_ts_edited=pd.Float64Dtype(),\n",
    "    beatdown_count=pd.Int16Dtype()\n",
    ")\n",
    "\n",
    "with engine.begin() as cnxn:\n",
    "    df_regions = pd.read_sql(weaselbot_region_sql, cnxn, dtype=dtypes)"
   ]
  },
  {
   "cell_type": "code",
   "execution_count": null,
   "id": "b86f614b-caee-4ea7-87b5-c1573f54be13",
   "metadata": {},
   "outputs": [],
   "source": []
  },
  {
   "cell_type": "code",
   "execution_count": null,
   "id": "dc96513c-01ee-4f20-8c09-9fb7ba291f9d",
   "metadata": {},
   "outputs": [],
   "source": []
  },
  {
   "cell_type": "code",
   "execution_count": null,
   "id": "fa5aacc0-c995-4426-8e1a-30de6fe07d7c",
   "metadata": {},
   "outputs": [],
   "source": []
  },
  {
   "cell_type": "code",
   "execution_count": null,
   "id": "5c022e90-0f03-42cc-9520-dc43dd87a80a",
   "metadata": {},
   "outputs": [],
   "source": []
  },
  {
   "cell_type": "code",
   "execution_count": null,
   "id": "8d4ab381-fdb7-45ed-829e-1538ec0d0dcb",
   "metadata": {},
   "outputs": [],
   "source": []
  },
  {
   "cell_type": "code",
   "execution_count": null,
   "id": "02f00f5b-c53a-4443-8005-15062d70fd81",
   "metadata": {},
   "outputs": [],
   "source": []
  },
  {
   "cell_type": "code",
   "execution_count": null,
   "id": "969d37f9-b687-4c58-bc6b-7fd454ca06d2",
   "metadata": {},
   "outputs": [],
   "source": []
  }
 ],
 "metadata": {
  "kernelspec": {
   "display_name": "weaselbot",
   "language": "python",
   "name": "weaselbot"
  },
  "language_info": {
   "codemirror_mode": {
    "name": "ipython",
    "version": 3
   },
   "file_extension": ".py",
   "mimetype": "text/x-python",
   "name": "python",
   "nbconvert_exporter": "python",
   "pygments_lexer": "ipython3",
   "version": "3.12.1"
  }
 },
 "nbformat": 4,
 "nbformat_minor": 5
}

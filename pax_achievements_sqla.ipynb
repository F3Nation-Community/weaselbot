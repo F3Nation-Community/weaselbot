{
 "cells": [
  {
   "cell_type": "code",
   "execution_count": null,
   "id": "fb4d3a74-e774-48a2-b450-392160263a00",
   "metadata": {},
   "outputs": [],
   "source": [
    "import logging\n",
    "import re\n",
    "import ssl\n",
    "import time\n",
    "from datetime import date\n",
    "from functools import reduce\n",
    "\n",
    "import numpy as np\n",
    "import pandas as pd\n",
    "from slack_sdk import WebClient\n",
    "from slack_sdk.errors import SlackApiError\n",
    "from slack_sdk.web.slack_response import SlackResponse\n",
    "from sqlalchemy import MetaData, Table, Selectable\n",
    "from sqlalchemy.engine import Engine\n",
    "from sqlalchemy.sql import and_, case, func, or_, select, text\n",
    "\n",
    "from pax_achievements import (\n",
    "    cadre,\n",
    "    el_presidente,\n",
    "    hammer_not_nail,\n",
    "    hdtf,\n",
    "    leader_of_men,\n",
    "    nation_sql,\n",
    "    posts,\n",
    "    region_sql,\n",
    "    six_pack,\n",
    "    the_boss,\n",
    "    the_monk,\n",
    "    the_priest,\n",
    "award_list,\n",
    "award_view\n",
    ")\n",
    "from utils import mysql_connection, send_to_slack\n"
   ]
  },
  {
   "cell_type": "code",
   "execution_count": null,
   "id": "93b7b1db-a48e-4acc-87a9-bf936344c0b9",
   "metadata": {},
   "outputs": [],
   "source": [
    "logging.basicConfig(format=\"%(asctime)s [%(levelname)s]:%(message)s\",\n",
    "                        level=logging.INFO,\n",
    "                        datefmt=\"%Y-%m-%d %H:%M:%S\")"
   ]
  },
  {
   "cell_type": "code",
   "execution_count": null,
   "id": "54a468f9-c48d-4929-9694-648afd8949a0",
   "metadata": {},
   "outputs": [],
   "source": [
    "year = date.today().year\n",
    "engine = mysql_connection()\n",
    "metadata = MetaData()\n",
    "%time metadata.reflect(engine, schema=\"weaselbot\")"
   ]
  },
  {
   "cell_type": "code",
   "execution_count": null,
   "id": "2e5f4a13-e5dc-4642-bc4f-5ed3d28f4d6d",
   "metadata": {},
   "outputs": [],
   "source": [
    "%time df_regions = pd.read_sql(region_sql(metadata), engine)\n",
    "%time nation_df = pd.read_sql(nation_sql(metadata, year), engine, parse_dates=\"date\")"
   ]
  },
  {
   "cell_type": "code",
   "execution_count": null,
   "id": "7d6cd310-24f4-432a-9060-716b60da5c76",
   "metadata": {},
   "outputs": [],
   "source": [
    "bb_filter = nation_df.backblast.str.lower().str[:100].str.contains(r\"q.{0,1}source|q{0,1}[1-9]\\.[0-9]\\s\")\n",
    "ao_filter = nation_df.ao.str.contains(r\"q.{0,1}source\")\n",
    "\n",
    "dfs = []\n",
    "############# Q Source ##############\n",
    "dfs.append(the_priest(nation_df, bb_filter, ao_filter))\n",
    "dfs.append(the_monk(nation_df, bb_filter, ao_filter))\n",
    "############### END #################\n",
    "\n",
    "# For beatdowns, we want to exclude QSource and Ruck (blackops too? What is blackops?)\n",
    "bb_filter = nation_df.backblast.str.lower().str[:100].str.contains(r\"q.{0,1}source|q{0,1}[1-9]\\.[0-9]\\s|ruck\")\n",
    "ao_filter = nation_df.ao.str.contains(r\"q.{0,1}source|ruck\")\n",
    "\n",
    "############ ALL ELSE ###############\n",
    "dfs.append(leader_of_men(nation_df, bb_filter, ao_filter))\n",
    "dfs.append(the_boss(nation_df, bb_filter, ao_filter))\n",
    "dfs.append(hammer_not_nail(nation_df, bb_filter, ao_filter))\n",
    "dfs.append(cadre(nation_df, bb_filter, ao_filter))\n",
    "dfs.append(el_presidente(nation_df, bb_filter, ao_filter))\n",
    "\n",
    "s = posts(nation_df, bb_filter, ao_filter)\n",
    "for val in [25, 50, 100, 150, 200]:\n",
    "    dfs.append(s[s.ao_id >= val].reset_index().drop('ao_id', axis=1).rename({\"date\": \"date_awarded\"}, axis=1))\n",
    "\n",
    "dfs.append(six_pack(nation_df, bb_filter, ao_filter))\n",
    "dfs.append(hdtf(nation_df, bb_filter, ao_filter))"
   ]
  },
  {
   "cell_type": "code",
   "execution_count": null,
   "id": "5d296e37-3352-44d5-b411-c8837e8ddca2",
   "metadata": {},
   "outputs": [],
   "source": [
    "df_regions.paxminer_schema.unique()"
   ]
  },
  {
   "cell_type": "code",
   "execution_count": null,
   "id": "05cc04f0-15bd-4b9e-87af-d57a0b85fd04",
   "metadata": {},
   "outputs": [],
   "source": [
    "for r in df_regions.itertuples(index=False):\n",
    "    if r.paxminer_schema == \"f3noho\":\n",
    "        row = r"
   ]
  },
  {
   "cell_type": "markdown",
   "id": "7e9d4e73-be24-43b4-8069-80dc20990cb0",
   "metadata": {},
   "source": [
    "`f3spiritofstl` changed their awards table. They took out \"the_priest\" and a few others. ??? That's fine. Do we want that? "
   ]
  },
  {
   "cell_type": "markdown",
   "id": "b0edb5ac-0c46-44d1-8548-3a9b092a2068",
   "metadata": {},
   "source": [
    "We're now in the loop of all regions. Pick one from the above list and run `send_to_slack` to see what's already up-to-date and what new records would be added."
   ]
  },
  {
   "cell_type": "code",
   "execution_count": null,
   "id": "aacbd24b-23ff-43e5-b6e0-0942cb2e5e45",
   "metadata": {},
   "outputs": [],
   "source": [
    "%time awarded = pd.read_sql(award_view(row, engine, metadata, year), engine, parse_dates=['date_awarded', 'created', 'updated'])\n",
    "%time awards = pd.read_sql(award_list(row, engine, metadata), engine)"
   ]
  },
  {
   "cell_type": "code",
   "execution_count": null,
   "id": "9b0e9a03-0f9b-4be9-a863-2a48e342b0fa",
   "metadata": {},
   "outputs": [],
   "source": [
    "send_to_slack(row, year, awarded, awards, dfs)"
   ]
  },
  {
   "cell_type": "code",
   "execution_count": null,
   "id": "5471fc82-0bbe-4c97-b7f6-6a1c8fa3bd30",
   "metadata": {},
   "outputs": [],
   "source": [
    "awards"
   ]
  },
  {
   "cell_type": "code",
   "execution_count": null,
   "id": "3f7ae97b-225c-4f04-8781-fcfb8ea0198f",
   "metadata": {},
   "outputs": [],
   "source": []
  }
 ],
 "metadata": {
  "kernelspec": {
   "display_name": "weaselbot",
   "language": "python",
   "name": "weaselbot"
  },
  "language_info": {
   "codemirror_mode": {
    "name": "ipython",
    "version": 3
   },
   "file_extension": ".py",
   "mimetype": "text/x-python",
   "name": "python",
   "nbconvert_exporter": "python",
   "pygments_lexer": "ipython3",
   "version": "3.12.1"
  }
 },
 "nbformat": 4,
 "nbformat_minor": 5
}

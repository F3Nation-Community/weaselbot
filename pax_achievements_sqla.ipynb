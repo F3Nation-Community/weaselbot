{
 "cells": [
  {
   "cell_type": "code",
   "execution_count": 1,
   "id": "fb4d3a74-e774-48a2-b450-392160263a00",
   "metadata": {},
   "outputs": [],
   "source": [
    "import logging\n",
    "import re\n",
    "import ssl\n",
    "import time\n",
    "from datetime import date\n",
    "from functools import reduce\n",
    "\n",
    "import numpy as np\n",
    "import pandas as pd\n",
    "from slack_sdk import WebClient\n",
    "from slack_sdk.errors import SlackApiError\n",
    "from slack_sdk.web.slack_response import SlackResponse\n",
    "from sqlalchemy import MetaData, Table, Selectable\n",
    "from sqlalchemy.engine import Engine\n",
    "from sqlalchemy.sql import and_, case, func, or_, select, text\n",
    "from sqlalchemy.exc import NoSuchTableError\n",
    "\n",
    "from pax_achievements import (\n",
    "    cadre,\n",
    "    el_presidente,\n",
    "    hammer_not_nail,\n",
    "    hdtf,\n",
    "    leader_of_men,\n",
    "    nation_sql,\n",
    "    posts,\n",
    "    region_sql,\n",
    "    six_pack,\n",
    "    the_boss,\n",
    "    the_monk,\n",
    "    the_priest,\n",
    "award_list,\n",
    "award_view,\n",
    "load_to_database\n",
    ")\n",
    "from utils import mysql_connection, send_to_slack\n"
   ]
  },
  {
   "cell_type": "code",
   "execution_count": 2,
   "id": "8162f9b2-8375-4541-b097-820e281bfe94",
   "metadata": {},
   "outputs": [],
   "source": [
    "year = date.today().year\n",
    "engine = mysql_connection()\n",
    "metadata = MetaData()\n",
    "metadata.reflect(engine, schema=\"weaselbot\")\n",
    "\n",
    "df_regions = pd.read_sql(region_sql(metadata), engine)\n",
    "nation_df = pd.read_sql(nation_sql(metadata, year), engine, parse_dates=\"date\")\n",
    "\n",
    "# for QSource, we want to capture only QSource\n",
    "bb_filter = nation_df.backblast.str.lower().str[:100].str.contains(r\"q.{0,1}source|q{0,1}[1-9]\\.[0-9]\\s\")\n",
    "ao_filter = nation_df.ao.str.contains(r\"q.{0,1}source\")\n",
    "\n",
    "dfs = []\n",
    "############# Q Source ##############\n",
    "dfs.append(the_priest(nation_df, bb_filter, ao_filter))\n",
    "dfs.append(the_monk(nation_df, bb_filter, ao_filter))\n",
    "############### END #################\n",
    "\n",
    "# For beatdowns, we want to exclude QSource and Ruck (blackops too? What is blackops?)\n",
    "bb_filter = nation_df.backblast.str.lower().str[:100].str.contains(r\"q.{0,1}source|q{0,1}[1-9]\\.[0-9]\\s|ruck\")\n",
    "ao_filter = nation_df.ao.str.contains(r\"q.{0,1}source|ruck\")\n",
    "\n",
    "############ ALL ELSE ###############\n",
    "dfs.append(leader_of_men(nation_df, bb_filter, ao_filter))\n",
    "dfs.append(the_boss(nation_df, bb_filter, ao_filter))\n",
    "dfs.append(hammer_not_nail(nation_df, bb_filter, ao_filter))\n",
    "dfs.append(cadre(nation_df, bb_filter, ao_filter))\n",
    "dfs.append(el_presidente(nation_df, bb_filter, ao_filter))\n",
    "\n",
    "s = posts(nation_df, bb_filter, ao_filter)\n",
    "for val in [25, 50, 100, 150, 200]:\n",
    "    dfs.append(s[s.ao_id >= val].reset_index().drop('ao_id', axis=1).rename({\"date\": \"date_awarded\"}, axis=1))\n",
    "\n",
    "dfs.append(six_pack(nation_df, bb_filter, ao_filter))\n",
    "dfs.append(hdtf(nation_df, bb_filter, ao_filter))"
   ]
  },
  {
   "cell_type": "code",
   "execution_count": 7,
   "id": "e9fccb3b-8516-4c04-8246-9308d72ffa02",
   "metadata": {},
   "outputs": [
    {
     "data": {
      "text/html": [
       "<div>\n",
       "<style scoped>\n",
       "    .dataframe tbody tr th:only-of-type {\n",
       "        vertical-align: middle;\n",
       "    }\n",
       "\n",
       "    .dataframe tbody tr th {\n",
       "        vertical-align: top;\n",
       "    }\n",
       "\n",
       "    .dataframe thead th {\n",
       "        text-align: right;\n",
       "    }\n",
       "</style>\n",
       "<table border=\"1\" class=\"dataframe\">\n",
       "  <thead>\n",
       "    <tr style=\"text-align: right;\">\n",
       "      <th></th>\n",
       "      <th>month</th>\n",
       "      <th>slack_user_id</th>\n",
       "      <th>home_region</th>\n",
       "      <th>date_awarded</th>\n",
       "    </tr>\n",
       "  </thead>\n",
       "  <tbody>\n",
       "    <tr>\n",
       "      <th>103</th>\n",
       "      <td>1</td>\n",
       "      <td>U02B48S6SER</td>\n",
       "      <td>f3chicago</td>\n",
       "      <td>2024-01-27</td>\n",
       "    </tr>\n",
       "  </tbody>\n",
       "</table>\n",
       "</div>"
      ],
      "text/plain": [
       "     month slack_user_id home_region date_awarded\n",
       "103      1   U02B48S6SER   f3chicago   2024-01-27"
      ]
     },
     "execution_count": 7,
     "metadata": {},
     "output_type": "execute_result"
    }
   ],
   "source": [
    "dfs[2].loc[dfs[2].home_region == 'f3chicago']"
   ]
  },
  {
   "cell_type": "code",
   "execution_count": 13,
   "id": "1bdb135e-8b5e-4a46-a6a8-2448943d5250",
   "metadata": {},
   "outputs": [
    {
     "data": {
      "text/plain": [
       "array(['f3alliance', 'f3waco', 'f3naperville', 'f3waxhaw', 'f3columbia',\n",
       "       'f3muletown', 'f3pugetsound', 'f3jeffco', 'f3stlmeramec',\n",
       "       'f3southcary', 'f3glacier', 'f3ttown', 'f3washmo', 'f3expedition',\n",
       "       'f3central_il', 'f3southsound', 'f3thecapital', 'f3nwarkansas',\n",
       "       'f3thespark', 'f3gwinnett', 'f3stl', 'f3orlando', 'f3westcobb',\n",
       "       'f3marshall', 'f3roanoke', 'f3albany', 'f3suncoast', 'f3austin',\n",
       "       'f3hillcountry', 'f3blueridge', 'f3portland', 'f3northlake',\n",
       "       'f3cherokee', 'f3denver', 'f3florence', 'f3fortcollins',\n",
       "       'f3thejunction', 'f3wichita', 'f3noho', 'f3knoxville', 'f3thefort',\n",
       "       'f3houston', 'f3kcmo', 'f3borderlands', 'f3westindy', 'f3soco',\n",
       "       'f3huntsville', 'f3flomo', 'f3albuquerque', 'f3spiritofstl',\n",
       "       'f3ne_wake', 'f3stcharles', 'f3thechuck', 'f3chicago',\n",
       "       'f3se_michigan', 'f3brentwood', 'f3sclt', 'f3twincities',\n",
       "       'f3memphis', 'f3noco', 'f3tornadoalley', 'f3rockhill',\n",
       "       'f3lexington', 'f3charlottesville', 'f3thomasville'], dtype=object)"
      ]
     },
     "execution_count": 13,
     "metadata": {},
     "output_type": "execute_result"
    }
   ],
   "source": [
    "df_regions.paxminer_schema.unique()"
   ]
  },
  {
   "cell_type": "code",
   "execution_count": null,
   "id": "5fe19ce7-8578-4d82-b99c-8e14678b4dd3",
   "metadata": {},
   "outputs": [],
   "source": []
  },
  {
   "cell_type": "code",
   "execution_count": 12,
   "id": "41f39c06-f96c-492f-a71c-bdad32b5138e",
   "metadata": {},
   "outputs": [
    {
     "name": "stderr",
     "output_type": "stream",
     "text": [
      "2024-02-01 19:00:04 [INFO]:No data in The Priest for f3chicago\n",
      "2024-02-01 19:00:04 [INFO]:f3chicago has data but nothing new for The Monk.\n",
      "2024-02-01 19:00:04 [INFO]:f3chicago has data but nothing new for Leader of Men.\n",
      "2024-02-01 19:00:04 [INFO]:f3chicago has data but nothing new for The Boss.\n",
      "2024-02-01 19:00:04 [INFO]:f3chicago has data but nothing new for Be the Hammer, Not the Nail.\n",
      "2024-02-01 19:00:04 [INFO]:f3chicago has data but nothing new for Cadre.\n",
      "2024-02-01 19:00:04 [INFO]:f3chicago has data but nothing new for El Presidente.\n",
      "2024-02-01 19:00:04 [INFO]:f3chicago has data but nothing new for El Quatro.\n",
      "2024-02-01 19:00:04 [INFO]:No data in Golden Boy for f3chicago\n",
      "2024-02-01 19:00:04 [INFO]:No data in Centurion for f3chicago\n",
      "2024-02-01 19:00:04 [INFO]:No data in Karate Kid for f3chicago\n",
      "2024-02-01 19:00:04 [INFO]:No data in Crazy Person for f3chicago\n",
      "2024-02-01 19:00:04 [INFO]:f3chicago has data but nothing new for 6 pack.\n",
      "2024-02-01 19:00:04 [INFO]:No data in Holding Down the Fort for f3chicago\n",
      "2024-02-01 19:00:04 [INFO]:Successfully loaded all records and sent all Slack messages for f3chicago.\n"
     ]
    }
   ],
   "source": [
    "for row in df_regions.itertuples(index=False):\n",
    "    if row.paxminer_schema == 'f3chicago':\n",
    "        try:\n",
    "            awarded = pd.read_sql(award_view(row, engine, metadata, year), engine, parse_dates=['date_awarded', 'created', 'updated'])\n",
    "            awards = pd.read_sql(award_list(row, engine, metadata), engine)\n",
    "        except NoSuchTableError:\n",
    "            logging.error(f\"{row.paxminer_schema} isn't signed up for Weaselbot achievements.\")\n",
    "            continue\n",
    "        data_to_load = send_to_slack(row, year, awarded, awards, dfs)\n",
    "        if not data_to_load.empty:\n",
    "            load_to_database(row, engine, metadata, data_to_load)\n",
    "        logging.info(f\"Successfully loaded all records and sent all Slack messages for {row.paxminer_schema}.\")"
   ]
  },
  {
   "cell_type": "code",
   "execution_count": null,
   "id": "61b57a86-55a1-4eb2-9970-f8fb7925b1cd",
   "metadata": {},
   "outputs": [],
   "source": []
  }
 ],
 "metadata": {
  "kernelspec": {
   "display_name": "weaselbot",
   "language": "python",
   "name": "weaselbot"
  },
  "language_info": {
   "codemirror_mode": {
    "name": "ipython",
    "version": 3
   },
   "file_extension": ".py",
   "mimetype": "text/x-python",
   "name": "python",
   "nbconvert_exporter": "python",
   "pygments_lexer": "ipython3",
   "version": "3.12.1"
  }
 },
 "nbformat": 4,
 "nbformat_minor": 5
}

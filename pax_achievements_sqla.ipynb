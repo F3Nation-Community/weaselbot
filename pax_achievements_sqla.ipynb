{
 "cells": [
  {
   "cell_type": "code",
   "execution_count": 1,
   "id": "fb4d3a74-e774-48a2-b450-392160263a00",
   "metadata": {},
   "outputs": [],
   "source": [
    "import logging\n",
    "import re\n",
    "import ssl\n",
    "import time\n",
    "from datetime import date\n",
    "from functools import reduce\n",
    "\n",
    "import numpy as np\n",
    "import pandas as pd\n",
    "from slack_sdk import WebClient\n",
    "from slack_sdk.errors import SlackApiError\n",
    "from slack_sdk.web.slack_response import SlackResponse\n",
    "from sqlalchemy import MetaData, Table\n",
    "from sqlalchemy.sql import and_, case, func, or_, select, text\n",
    "\n",
    "from pax_achievements import (\n",
    "    cadre,\n",
    "    el_presidente,\n",
    "    hammer_not_nail,\n",
    "    hdtf,\n",
    "    leader_of_men,\n",
    "    nation_sql,\n",
    "    posts,\n",
    "    region_sql,\n",
    "    six_pack,\n",
    "    the_boss,\n",
    "    the_monk,\n",
    "    the_priest,\n",
    ")\n",
    "from utils import mysql_connection, slack_client\n"
   ]
  },
  {
   "cell_type": "code",
   "execution_count": 2,
   "id": "93b7b1db-a48e-4acc-87a9-bf936344c0b9",
   "metadata": {},
   "outputs": [],
   "source": [
    "logging.basicConfig(format=\"%(asctime)s [%(levelname)s]:%(message)s\",\n",
    "                        level=logging.INFO,\n",
    "                        datefmt=\"%Y-%m-%d %H:%M:%S\")"
   ]
  },
  {
   "cell_type": "code",
   "execution_count": 3,
   "id": "54a468f9-c48d-4929-9694-648afd8949a0",
   "metadata": {},
   "outputs": [
    {
     "name": "stdout",
     "output_type": "stream",
     "text": [
      "CPU times: user 73.1 ms, sys: 14.2 ms, total: 87.3 ms\n",
      "Wall time: 2.76 s\n"
     ]
    }
   ],
   "source": [
    "year = date.today().year\n",
    "engine = mysql_connection()\n",
    "metadata = MetaData()\n",
    "%time metadata.reflect(engine, schema=\"weaselbot\")"
   ]
  },
  {
   "cell_type": "code",
   "execution_count": 4,
   "id": "2e5f4a13-e5dc-4642-bc4f-5ed3d28f4d6d",
   "metadata": {},
   "outputs": [
    {
     "name": "stdout",
     "output_type": "stream",
     "text": [
      "CPU times: user 12 ms, sys: 4.05 ms, total: 16 ms\n",
      "Wall time: 142 ms\n",
      "CPU times: user 1.2 s, sys: 446 ms, total: 1.65 s\n",
      "Wall time: 1min 2s\n"
     ]
    }
   ],
   "source": [
    "%time df_regions = pd.read_sql(region_sql(metadata), engine)\n",
    "%time nation_df = pd.read_sql(nation_sql(metadata, year), engine, parse_dates=\"date\")"
   ]
  },
  {
   "cell_type": "code",
   "execution_count": 44,
   "id": "98128e45-250e-4364-ba59-761e6639d431",
   "metadata": {},
   "outputs": [],
   "source": [
    "bb_filter = nation_df.backblast.str.lower().str[:100].str.contains(r\"q.{0,1}source|q{0,1}[1-9]\\.[0-9]\\s|ruck\")\n",
    "ao_filter = nation_df.ao.str.contains(r\"q.{0,1}source|ruck\")"
   ]
  },
  {
   "cell_type": "code",
   "execution_count": 6,
   "id": "5c5435db-900c-41fc-9ae7-f797ea554f0c",
   "metadata": {},
   "outputs": [],
   "source": [
    "############# Q Source ##############\n",
    "priest_df = the_priest(nation_df, bb_filter, ao_filter)\n",
    "monk_df = the_monk(nation_df, bb_filter, ao_filter)\n",
    "############### END #################"
   ]
  },
  {
   "cell_type": "code",
   "execution_count": 7,
   "id": "9d010d1b-e251-4144-b32b-4ad402f08dd2",
   "metadata": {},
   "outputs": [],
   "source": [
    "############ ALL ELSE ###############\n",
    "leader_of_men_df = leader_of_men(nation_df, bb_filter, ao_filter)\n",
    "boss_df = the_boss(nation_df, bb_filter, ao_filter)\n",
    "hammer_not_nail_df = hammer_not_nail(nation_df, bb_filter, ao_filter)\n",
    "cadre_df = cadre(nation_df, bb_filter, ao_filter)\n",
    "el_presidente_df = el_presidente(nation_df, bb_filter, ao_filter)\n",
    "\n",
    "ss = []\n",
    "s = posts(nation_df, bb_filter, ao_filter)\n",
    "for val in [25, 50, 100, 150, 200]:\n",
    "    ss.append(s[s >= val])\n",
    "el_quatro, golden_boy, centurian, karate_kid, crazy_person = ss\n",
    "six_pack_df = six_pack(nation_df, bb_filter, ao_filter)\n",
    "hdtf_df = hdtf(nation_df, bb_filter, ao_filter)"
   ]
  },
  {
   "cell_type": "code",
   "execution_count": 8,
   "id": "e12d4064-eba4-46ef-8b28-7e36da77c1ad",
   "metadata": {},
   "outputs": [
    {
     "data": {
      "text/plain": [
       "array(['f3alliance', 'f3waco', 'f3naperville', 'f3waxhaw', 'f3columbia',\n",
       "       'f3muletown', 'f3pugetsound', 'f3jeffco', 'f3stlmeramec',\n",
       "       'f3southcary', 'f3glacier', 'f3ttown', 'f3washmo', 'f3expedition',\n",
       "       'f3central_il', 'f3southsound', 'f3thecapital', 'f3nwarkansas',\n",
       "       'f3thespark', 'f3gwinnett', 'f3stl', 'f3orlando', 'f3westcobb',\n",
       "       'f3marshall', 'f3roanoke', 'f3albany', 'f3suncoast', 'f3austin',\n",
       "       'f3hillcountry', 'f3blueridge', 'f3portland', 'f3northlake',\n",
       "       'f3cherokee', 'f3denver', 'f3florence', 'f3fortcollins',\n",
       "       'f3thejunction', 'f3wichita', 'f3noho', 'f3knoxville', 'f3thefort',\n",
       "       'f3houston', 'f3kcmo', 'f3borderlands', 'f3westindy', 'f3soco',\n",
       "       'f3huntsville', 'f3flomo', 'f3albuquerque', 'f3spiritofstl',\n",
       "       'f3ne_wake', 'f3stcharles', 'f3thechuck', 'f3chicago',\n",
       "       'f3se_michigan', 'f3brentwood', 'f3sclt', 'f3twincities',\n",
       "       'f3memphis', 'f3noco', 'f3tornadoalley'], dtype=object)"
      ]
     },
     "execution_count": 8,
     "metadata": {},
     "output_type": "execute_result"
    }
   ],
   "source": [
    "df_regions.paxminer_schema.unique()"
   ]
  },
  {
   "cell_type": "code",
   "execution_count": 36,
   "id": "05cc04f0-15bd-4b9e-87af-d57a0b85fd04",
   "metadata": {},
   "outputs": [],
   "source": [
    "for r in df_regions.itertuples(index=False):\n",
    "    if r.paxminer_schema == \"f3gwinnett\":\n",
    "        row = r"
   ]
  },
  {
   "cell_type": "code",
   "execution_count": null,
   "id": "87a03f47-40eb-4285-b15a-a127dbc332af",
   "metadata": {},
   "outputs": [],
   "source": [
    "# client = slack_client(row.slack_token) # no need for this yet. Here for completeness"
   ]
  },
  {
   "cell_type": "code",
   "execution_count": 37,
   "id": "6a2a2378-faa0-43ac-bdce-e447b714f9be",
   "metadata": {},
   "outputs": [
    {
     "name": "stderr",
     "output_type": "stream",
     "text": [
      "2024-01-29 04:46:34 [ERROR]:f3gwinnett not in the_priest\n"
     ]
    }
   ],
   "source": [
    "idx = pd.IndexSlice\n",
    "try:\n",
    "    records = priest_df[idx[:, row.paxminer_schema]]\n",
    "    data = records.reset_index().drop(\"ao_id\", axis=1).assign(achievement_id=1, date_awarded=date.today()).to_dict(\"records\")\n",
    "except KeyError as e:\n",
    "    logging.error(f\"{row.paxminer_schema} not in the_priest\")"
   ]
  },
  {
   "cell_type": "code",
   "execution_count": 38,
   "id": "798f6f16-5fc4-412c-8eab-cc0aae882364",
   "metadata": {},
   "outputs": [
    {
     "name": "stderr",
     "output_type": "stream",
     "text": [
      "2024-01-29 04:46:35 [ERROR]:f3gwinnett not in the_monk\n"
     ]
    }
   ],
   "source": [
    "try:\n",
    "    records = monk_df[idx[:, :, row.paxminer_schema]]\n",
    "    data = records.reset_index().drop(\"ao_id\", axis=1).assign(achievement_id=2, date_awarded=date.today()).to_dict(\"records\")\n",
    "except KeyError as e:\n",
    "    logging.error(f\"{row.paxminer_schema} not in the_monk\")"
   ]
  },
  {
   "cell_type": "code",
   "execution_count": 45,
   "id": "aebfab9e-ff47-4d1a-9403-b8af7bb276e3",
   "metadata": {},
   "outputs": [],
   "source": [
    "try:\n",
    "    records = leader_of_men_df[idx[:, :, row.paxminer_schema]]\n",
    "    data = records.reset_index().drop(\"ao_id\", axis=1).assign(achievement_id=3, date_awarded=date.today()).to_dict(\"records\")\n",
    "except KeyError as e:\n",
    "    logging.error(f\"{row.paxminer_schema} not in leader_of_men\")"
   ]
  },
  {
   "cell_type": "code",
   "execution_count": 46,
   "id": "27382b89-8b16-4c22-a33f-6635109d699a",
   "metadata": {},
   "outputs": [
    {
     "data": {
      "text/plain": [
       "[{'month': 1,\n",
       "  'slack_user_id': 'U0201J33A4T',\n",
       "  'achievement_id': 3,\n",
       "  'date_awarded': datetime.date(2024, 1, 29)},\n",
       " {'month': 1,\n",
       "  'slack_user_id': 'U0202J8T8LD',\n",
       "  'achievement_id': 3,\n",
       "  'date_awarded': datetime.date(2024, 1, 29)},\n",
       " {'month': 1,\n",
       "  'slack_user_id': 'U020EMVJ6M7',\n",
       "  'achievement_id': 3,\n",
       "  'date_awarded': datetime.date(2024, 1, 29)},\n",
       " {'month': 1,\n",
       "  'slack_user_id': 'U029PFFFX6U',\n",
       "  'achievement_id': 3,\n",
       "  'date_awarded': datetime.date(2024, 1, 29)},\n",
       " {'month': 1,\n",
       "  'slack_user_id': 'U03D4QFRLCB',\n",
       "  'achievement_id': 3,\n",
       "  'date_awarded': datetime.date(2024, 1, 29)},\n",
       " {'month': 1,\n",
       "  'slack_user_id': 'U03D7F9MB8C',\n",
       "  'achievement_id': 3,\n",
       "  'date_awarded': datetime.date(2024, 1, 29)},\n",
       " {'month': 1,\n",
       "  'slack_user_id': 'U03UKPWF61G',\n",
       "  'achievement_id': 3,\n",
       "  'date_awarded': datetime.date(2024, 1, 29)},\n",
       " {'month': 1,\n",
       "  'slack_user_id': 'U05RYV3SNKD',\n",
       "  'achievement_id': 3,\n",
       "  'date_awarded': datetime.date(2024, 1, 29)}]"
      ]
     },
     "execution_count": 46,
     "metadata": {},
     "output_type": "execute_result"
    }
   ],
   "source": [
    "data"
   ]
  },
  {
   "cell_type": "code",
   "execution_count": 47,
   "id": "fec29dc8-4edc-4260-8084-4bd4469f468b",
   "metadata": {},
   "outputs": [
    {
     "data": {
      "text/html": [
       "<div>\n",
       "<style scoped>\n",
       "    .dataframe tbody tr th:only-of-type {\n",
       "        vertical-align: middle;\n",
       "    }\n",
       "\n",
       "    .dataframe tbody tr th {\n",
       "        vertical-align: top;\n",
       "    }\n",
       "\n",
       "    .dataframe thead th {\n",
       "        text-align: right;\n",
       "    }\n",
       "</style>\n",
       "<table border=\"1\" class=\"dataframe\">\n",
       "  <thead>\n",
       "    <tr style=\"text-align: right;\">\n",
       "      <th></th>\n",
       "      <th>email</th>\n",
       "      <th>user_name</th>\n",
       "      <th>slack_user_id</th>\n",
       "      <th>ao_id</th>\n",
       "      <th>ao</th>\n",
       "      <th>date</th>\n",
       "      <th>year_num</th>\n",
       "      <th>month_num</th>\n",
       "      <th>week_num</th>\n",
       "      <th>day_num</th>\n",
       "      <th>q_flag</th>\n",
       "      <th>backblast</th>\n",
       "      <th>home_region</th>\n",
       "    </tr>\n",
       "  </thead>\n",
       "  <tbody>\n",
       "    <tr>\n",
       "      <th>18361</th>\n",
       "      <td>jonathan@theahc.net</td>\n",
       "      <td>Chef (18/2of50lbs)</td>\n",
       "      <td>U03UKPWF61G</td>\n",
       "      <td>2875</td>\n",
       "      <td>ao-coliseum</td>\n",
       "      <td>2024-01-10</td>\n",
       "      <td>2024</td>\n",
       "      <td>1</td>\n",
       "      <td>1</td>\n",
       "      <td>10</td>\n",
       "      <td>1</td>\n",
       "      <td>Backblast: Alternating Q Wednesday \\nDate: 01/...</td>\n",
       "      <td>f3gwinnett</td>\n",
       "    </tr>\n",
       "    <tr>\n",
       "      <th>18364</th>\n",
       "      <td>jonathan@theahc.net</td>\n",
       "      <td>Chef (18/2of50lbs)</td>\n",
       "      <td>U03UKPWF61G</td>\n",
       "      <td>2919</td>\n",
       "      <td>ao-wolf-den</td>\n",
       "      <td>2024-01-13</td>\n",
       "      <td>2024</td>\n",
       "      <td>1</td>\n",
       "      <td>1</td>\n",
       "      <td>13</td>\n",
       "      <td>1</td>\n",
       "      <td>Backblast: Easy Breezy Saturday\\nDate: 1/13/24...</td>\n",
       "      <td>f3gwinnett</td>\n",
       "    </tr>\n",
       "  </tbody>\n",
       "</table>\n",
       "</div>"
      ],
      "text/plain": [
       "                     email           user_name slack_user_id  ao_id  \\\n",
       "18361  jonathan@theahc.net  Chef (18/2of50lbs)   U03UKPWF61G   2875   \n",
       "18364  jonathan@theahc.net  Chef (18/2of50lbs)   U03UKPWF61G   2919   \n",
       "\n",
       "                ao       date  year_num  month_num  week_num  day_num  q_flag  \\\n",
       "18361  ao-coliseum 2024-01-10      2024          1         1       10       1   \n",
       "18364  ao-wolf-den 2024-01-13      2024          1         1       13       1   \n",
       "\n",
       "                                               backblast home_region  \n",
       "18361  Backblast: Alternating Q Wednesday \\nDate: 01/...  f3gwinnett  \n",
       "18364  Backblast: Easy Breezy Saturday\\nDate: 1/13/24...  f3gwinnett  "
      ]
     },
     "execution_count": 47,
     "metadata": {},
     "output_type": "execute_result"
    }
   ],
   "source": [
    "nation_df.query(\"slack_user_id == 'U03UKPWF61G' and not (@bb_filter or @ao_filter) and (q_flag == 1)\")"
   ]
  },
  {
   "cell_type": "code",
   "execution_count": 17,
   "id": "a318c0b1-7357-4427-bdb1-3da48a2c3027",
   "metadata": {},
   "outputs": [],
   "source": [
    "try:\n",
    "    records = boss_df[idx[:, :, row.paxminer_schema]]\n",
    "    data = records.reset_index().drop(\"ao_id\", axis=1).assign(achievement_id=4, date_awarded=date.today()).to_dict(\"records\")\n",
    "except KeyError as e:\n",
    "    logging.error(f\"{row.paxminer_schema} not in the_boss\")"
   ]
  },
  {
   "cell_type": "code",
   "execution_count": 18,
   "id": "95cf0adb-00a2-4eed-b8cb-a517b5af3617",
   "metadata": {},
   "outputs": [
    {
     "data": {
      "text/plain": [
       "[{'month': 1,\n",
       "  'slack_user_id': 'U04KKCDRRAA',\n",
       "  'achievement_id': 4,\n",
       "  'date_awarded': datetime.date(2024, 1, 29)}]"
      ]
     },
     "execution_count": 18,
     "metadata": {},
     "output_type": "execute_result"
    }
   ],
   "source": [
    "data"
   ]
  },
  {
   "cell_type": "code",
   "execution_count": 19,
   "id": "79ac39a9-217e-4227-a026-ecc5ad101afe",
   "metadata": {},
   "outputs": [
    {
     "name": "stderr",
     "output_type": "stream",
     "text": [
      "2024-01-29 04:37:11 [ERROR]:f3alliance not in be_the_hammer_not_the_nail\n"
     ]
    }
   ],
   "source": [
    "try:\n",
    "    records = hammer_not_nail_df[idx[:, :, row.paxminer_schema]]\n",
    "    data = records.reset_index().drop(\"ao_id\", axis=1).assign(achievement_id=5, date_awarded=date.today()).to_dict(\"records\")\n",
    "except KeyError as e:\n",
    "    logging.error(f\"{row.paxminer_schema} not in be_the_hammer_not_the_nail\")"
   ]
  },
  {
   "cell_type": "code",
   "execution_count": 20,
   "id": "59e40b08-bea6-42de-a471-ebd811c1e86d",
   "metadata": {},
   "outputs": [
    {
     "name": "stderr",
     "output_type": "stream",
     "text": [
      "2024-01-29 04:37:13 [ERROR]:f3alliance not in cadre\n"
     ]
    }
   ],
   "source": [
    "try:\n",
    "    records = cadre_df[idx[:, :, row.paxminer_schema]]\n",
    "    data = records.reset_index().drop(\"ao_id\", axis=1).assign(achievement_id=6, date_awarded=date.today()).to_dict(\"records\")\n",
    "except KeyError as e:\n",
    "    logging.error(f\"{row.paxminer_schema} not in cadre\")"
   ]
  },
  {
   "cell_type": "code",
   "execution_count": 21,
   "id": "c88dfc21-8d47-4485-be72-168051f69563",
   "metadata": {},
   "outputs": [
    {
     "name": "stderr",
     "output_type": "stream",
     "text": [
      "2024-01-29 04:37:14 [ERROR]:f3alliance not in el_presidente\n"
     ]
    }
   ],
   "source": [
    "try:\n",
    "    records = el_presidente_df[idx[:, :, row.paxminer_schema]]\n",
    "    data = records.reset_index().drop(\"ao_id\", axis=1).assign(achievement_id=7, date_awarded=date.today()).to_dict(\"records\")\n",
    "except KeyError as e:\n",
    "    logging.error(f\"{row.paxminer_schema} not in el_presidente\")"
   ]
  },
  {
   "cell_type": "code",
   "execution_count": 22,
   "id": "30a68e60-d024-4244-a2ac-706d0eca0c66",
   "metadata": {},
   "outputs": [
    {
     "name": "stderr",
     "output_type": "stream",
     "text": [
      "2024-01-29 04:37:14 [ERROR]:f3alliance not in el_quatro\n"
     ]
    }
   ],
   "source": [
    "try:\n",
    "    records = el_quatro[idx[:, :, row.paxminer_schema]]\n",
    "    data = records.reset_index().drop(\"ao_id\", axis=1).assign(achievement_id=8, date_awarded=date.today()).to_dict(\"records\")\n",
    "except KeyError as e:\n",
    "    logging.error(f\"{row.paxminer_schema} not in el_quatro\")"
   ]
  },
  {
   "cell_type": "code",
   "execution_count": 23,
   "id": "98ff0dba-4c0a-4f2b-95ad-c51cb92e2836",
   "metadata": {},
   "outputs": [
    {
     "name": "stderr",
     "output_type": "stream",
     "text": [
      "2024-01-29 04:37:15 [ERROR]:f3alliance not in golden_boy\n"
     ]
    }
   ],
   "source": [
    "try:\n",
    "    records = golden_boy[idx[:, :, row.paxminer_schema]]\n",
    "    data = records.reset_index().drop(\"ao_id\", axis=1).assign(achievement_id=9, date_awarded=date.today()).to_dict(\"records\")\n",
    "except KeyError as e:\n",
    "    logging.error(f\"{row.paxminer_schema} not in golden_boy\")"
   ]
  },
  {
   "cell_type": "code",
   "execution_count": 24,
   "id": "166d3f6f-2558-4b7d-942f-9a0e5db1ccf7",
   "metadata": {},
   "outputs": [
    {
     "name": "stderr",
     "output_type": "stream",
     "text": [
      "2024-01-29 04:37:18 [ERROR]:f3alliance not in centurian\n"
     ]
    }
   ],
   "source": [
    "try:\n",
    "    records = centurian[idx[:, :, row.paxminer_schema]]\n",
    "    data = records.reset_index().drop(\"ao_id\", axis=1).assign(achievement_id=10, date_awarded=date.today()).to_dict(\"records\")\n",
    "except KeyError as e:\n",
    "    logging.error(f\"{row.paxminer_schema} not in centurian\")"
   ]
  },
  {
   "cell_type": "code",
   "execution_count": 25,
   "id": "fdead68c-c111-4534-bc1d-c8cb2320d160",
   "metadata": {},
   "outputs": [
    {
     "name": "stderr",
     "output_type": "stream",
     "text": [
      "2024-01-29 04:37:19 [ERROR]:f3alliance not in karate_kid\n"
     ]
    }
   ],
   "source": [
    "try:\n",
    "    records = karate_kid[idx[:, :, row.paxminer_schema]]\n",
    "    data = records.reset_index().drop(\"ao_id\", axis=1).assign(achievement_id=11, date_awarded=date.today()).to_dict(\"records\")\n",
    "except KeyError as e:\n",
    "    logging.error(f\"{row.paxminer_schema} not in karate_kid\")"
   ]
  },
  {
   "cell_type": "code",
   "execution_count": 26,
   "id": "2249fcda-2972-4574-8f01-9ceecbf5d22f",
   "metadata": {},
   "outputs": [
    {
     "name": "stderr",
     "output_type": "stream",
     "text": [
      "2024-01-29 04:37:19 [ERROR]:f3alliance not in crazy_person\n"
     ]
    }
   ],
   "source": [
    "try:\n",
    "    records = crazy_person[idx[:, :, row.paxminer_schema]]\n",
    "    data = records.reset_index().drop(\"ao_id\", axis=1).assign(achievement_id=12, date_awarded=date.today()).to_dict(\"records\")\n",
    "except KeyError as e:\n",
    "    logging.error(f\"{row.paxminer_schema} not in crazy_person\")"
   ]
  },
  {
   "cell_type": "code",
   "execution_count": 27,
   "id": "222028fa-edf9-4bf2-ae00-20e46e808549",
   "metadata": {},
   "outputs": [],
   "source": [
    "try:\n",
    "    records = six_pack_df[idx[:, :, row.paxminer_schema]]\n",
    "    data = records.reset_index().drop(\"ao_id\", axis=1).assign(achievement_id=13, date_awarded=date.today()).to_dict(\"records\")\n",
    "except KeyError as e:\n",
    "    logging.error(f\"{row.paxminer_schema} not in six_pack\")"
   ]
  },
  {
   "cell_type": "code",
   "execution_count": 35,
   "id": "fd439e89-43e5-4d1b-8609-ace563783456",
   "metadata": {},
   "outputs": [
    {
     "name": "stderr",
     "output_type": "stream",
     "text": [
      "2024-01-29 04:45:07 [ERROR]:f3alliance not in holding_down_the_fort\n"
     ]
    }
   ],
   "source": [
    "try:\n",
    "    records = hdtf_df[idx[:, :, row.paxminer_schema]]\n",
    "    data = records.reset_index().drop(\"ao\", axis=1).assign(achievement_id=14, date_awarded=date.today()).to_dict(\"records\")\n",
    "except KeyError as e:\n",
    "    logging.error(f\"{row.paxminer_schema} not in holding_down_the_fort\")"
   ]
  },
  {
   "cell_type": "code",
   "execution_count": null,
   "id": "23e33ae1-1234-43a8-b6dd-4d7f7fa61aa3",
   "metadata": {},
   "outputs": [],
   "source": [
    "# under current logic, this man received 6-pack. But he hasn't earned it because 2 of his beatdowns were Q Source. New\n",
    "# logic catches it.\n",
    "\n",
    "nation_df.query(\"slack_user_id == 'U0328DW47MH' and '2024-01-21' <= date <= '2024-01-27' and ao != 'ao_q_source'\")"
   ]
  },
  {
   "cell_type": "code",
   "execution_count": null,
   "id": "073dc554-51b7-4973-bb75-58e5789aec8d",
   "metadata": {},
   "outputs": [],
   "source": []
  }
 ],
 "metadata": {
  "kernelspec": {
   "display_name": "weaselbot",
   "language": "python",
   "name": "weaselbot"
  },
  "language_info": {
   "codemirror_mode": {
    "name": "ipython",
    "version": 3
   },
   "file_extension": ".py",
   "mimetype": "text/x-python",
   "name": "python",
   "nbconvert_exporter": "python",
   "pygments_lexer": "ipython3",
   "version": "3.12.1"
  }
 },
 "nbformat": 4,
 "nbformat_minor": 5
}

{
 "cells": [
  {
   "cell_type": "code",
   "execution_count": null,
   "id": "fb4d3a74-e774-48a2-b450-392160263a00",
   "metadata": {},
   "outputs": [],
   "source": [
    "import logging\n",
    "import re\n",
    "import ssl\n",
    "import time\n",
    "from datetime import date\n",
    "from functools import reduce\n",
    "\n",
    "import numpy as np\n",
    "import pandas as pd\n",
    "from slack_sdk import WebClient\n",
    "from slack_sdk.errors import SlackApiError\n",
    "from slack_sdk.web.slack_response import SlackResponse\n",
    "from sqlalchemy import MetaData, Table, Selectable\n",
    "from sqlalchemy.engine import Engine\n",
    "from sqlalchemy.sql import and_, case, func, or_, select, text\n",
    "from sqlalchemy.exc import NoSuchTableError\n",
    "\n",
    "from pax_achievements import (\n",
    "    cadre,\n",
    "    el_presidente,\n",
    "    hammer_not_nail,\n",
    "    hdtf,\n",
    "    leader_of_men,\n",
    "    nation_sql,\n",
    "    posts,\n",
    "    region_sql,\n",
    "    six_pack,\n",
    "    the_boss,\n",
    "    the_monk,\n",
    "    the_priest,\n",
    "award_list,\n",
    "award_view\n",
    ")\n",
    "from utils import mysql_connection, send_to_slack\n"
   ]
  },
  {
   "cell_type": "code",
   "execution_count": null,
   "id": "8162f9b2-8375-4541-b097-820e281bfe94",
   "metadata": {},
   "outputs": [],
   "source": []
  }
 ],
 "metadata": {
  "kernelspec": {
   "display_name": "weaselbot",
   "language": "python",
   "name": "weaselbot"
  },
  "language_info": {
   "codemirror_mode": {
    "name": "ipython",
    "version": 3
   },
   "file_extension": ".py",
   "mimetype": "text/x-python",
   "name": "python",
   "nbconvert_exporter": "python",
   "pygments_lexer": "ipython3",
   "version": "3.12.1"
  }
 },
 "nbformat": 4,
 "nbformat_minor": 5
}

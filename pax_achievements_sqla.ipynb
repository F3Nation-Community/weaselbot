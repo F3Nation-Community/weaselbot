{
 "cells": [
  {
   "cell_type": "code",
   "execution_count": null,
   "id": "804e71f1-ae93-489e-9625-b661085f1a20",
   "metadata": {},
   "outputs": [],
   "source": []
  }
 ],
 "metadata": {
  "kernelspec": {
   "display_name": "weaselbot",
   "language": "python",
   "name": "weaselbot"
  },
  "language_info": {
   "codemirror_mode": {
    "name": "ipython",
    "version": 3
   },
   "file_extension": ".py",
   "mimetype": "text/x-python",
   "name": "python",
   "nbconvert_exporter": "python",
   "pygments_lexer": "ipython3",
   "version": "3.12.2"
  }
 },
 "nbformat": 4,
 "nbformat_minor": 5
}

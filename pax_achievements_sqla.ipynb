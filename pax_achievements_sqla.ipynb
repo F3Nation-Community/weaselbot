{
 "cells": [
  {
   "cell_type": "code",
   "execution_count": null,
   "id": "fb4d3a74-e774-48a2-b450-392160263a00",
   "metadata": {},
   "outputs": [],
   "source": [
    "import logging\n",
    "import re\n",
    "import ssl\n",
    "import time\n",
    "from datetime import date\n",
    "from functools import reduce\n",
    "\n",
    "import numpy as np\n",
    "import pandas as pd\n",
    "from slack_sdk import WebClient\n",
    "from slack_sdk.errors import SlackApiError\n",
    "from slack_sdk.web.slack_response import SlackResponse\n",
    "from sqlalchemy import MetaData, Table, Selectable\n",
    "from sqlalchemy.engine import Engine\n",
    "from sqlalchemy.sql import and_, case, func, or_, select, text\n",
    "from sqlalchemy.exc import NoSuchTableError\n",
    "\n",
    "from pax_achievements import (\n",
    "    cadre,\n",
    "    el_presidente,\n",
    "    hammer_not_nail,\n",
    "    hdtf,\n",
    "    leader_of_men,\n",
    "    nation_sql,\n",
    "    posts,\n",
    "    region_sql,\n",
    "    six_pack,\n",
    "    the_boss,\n",
    "    the_monk,\n",
    "    the_priest,\n",
    "award_list,\n",
    "award_view,\n",
    "load_to_database\n",
    ")\n",
    "from utils import mysql_connection, send_to_slack\n"
   ]
  },
  {
   "cell_type": "code",
   "execution_count": null,
   "id": "8162f9b2-8375-4541-b097-820e281bfe94",
   "metadata": {},
   "outputs": [],
   "source": [
    "year = date.today().year\n",
    "engine = mysql_connection()\n",
    "metadata = MetaData()\n",
    "metadata.reflect(engine, schema=\"weaselbot\")\n",
    "\n",
    "df_regions = pd.read_sql(region_sql(metadata), engine)\n",
    "nation_df = pd.read_sql(nation_sql(metadata, year), engine, parse_dates=\"date\")\n",
    "\n",
    "# for QSource, we want to capture only QSource\n",
    "bb_filter = nation_df.backblast.str.lower().str[:100].str.contains(r\"q.{0,1}source|q{0,1}[1-9]\\.[0-9]\\s\")\n",
    "ao_filter = nation_df.ao.str.contains(r\"q.{0,1}source\")\n",
    "\n",
    "dfs = []\n",
    "############# Q Source ##############\n",
    "dfs.append(the_priest(nation_df, bb_filter, ao_filter))\n",
    "dfs.append(the_monk(nation_df, bb_filter, ao_filter))\n",
    "############### END #################\n",
    "\n",
    "# For beatdowns, we want to exclude QSource and Ruck (blackops too? What is blackops?)\n",
    "bb_filter = nation_df.backblast.str.lower().str[:100].str.contains(r\"q.{0,1}source|q{0,1}[1-9]\\.[0-9]\\s|ruck\")\n",
    "ao_filter = nation_df.ao.str.contains(r\"q.{0,1}source|ruck\")\n",
    "\n",
    "############ ALL ELSE ###############\n",
    "dfs.append(leader_of_men(nation_df, bb_filter, ao_filter))\n",
    "dfs.append(the_boss(nation_df, bb_filter, ao_filter))\n",
    "dfs.append(hammer_not_nail(nation_df, bb_filter, ao_filter))\n",
    "dfs.append(cadre(nation_df, bb_filter, ao_filter))\n",
    "dfs.append(el_presidente(nation_df, bb_filter, ao_filter))\n",
    "\n",
    "s = posts(nation_df, bb_filter, ao_filter)\n",
    "for val in [25, 50, 100, 150, 200]:\n",
    "    dfs.append(s[s.ao_id >= val].reset_index().drop('ao_id', axis=1).rename({\"date\": \"date_awarded\"}, axis=1))\n",
    "\n",
    "dfs.append(six_pack(nation_df, bb_filter, ao_filter))\n",
    "dfs.append(hdtf(nation_df, bb_filter, ao_filter))"
   ]
  },
  {
   "cell_type": "code",
   "execution_count": null,
   "id": "5fe19ce7-8578-4d82-b99c-8e14678b4dd3",
   "metadata": {},
   "outputs": [],
   "source": [
    "# for testing: f3stlmeramec\n",
    "# There's what already exists in the table of accomplishments (current id and all together).\n",
    "# as the loop is running, need to keep track of both. For pax x, what has been earned so far for current id and in total (including wnat's being added now)."
   ]
  },
  {
   "cell_type": "code",
   "execution_count": null,
   "id": "41f39c06-f96c-492f-a71c-bdad32b5138e",
   "metadata": {},
   "outputs": [],
   "source": [
    "engine = mysql_connection()\n",
    "for row in df_regions.itertuples(index=False):\n",
    "    if row.paxminer_schema == 'f3chicago':\n",
    "        try:\n",
    "            awarded = pd.read_sql(award_view(row, engine, metadata, year), engine, parse_dates=['date_awarded', 'created', 'updated'])\n",
    "            awards = pd.read_sql(award_list(row, engine, metadata), engine)\n",
    "        except NoSuchTableError:\n",
    "            logging.error(f\"{row.paxminer_schema} isn't signed up for Weaselbot achievements.\")\n",
    "            continue\n",
    "        data_to_load = send_to_slack(row, year, awarded, awards, dfs)\n",
    "        if not data_to_load.empty:\n",
    "            load_to_database(row, engine, metadata, data_to_load)\n",
    "            print(data_to_load)\n",
    "        logging.info(f\"Successfully loaded all records and sent all Slack messages for {row.paxminer_schema}.\")"
   ]
  },
  {
   "cell_type": "code",
   "execution_count": null,
   "id": "88306f73-e734-4bf8-8167-e46d84d6ac58",
   "metadata": {},
   "outputs": [],
   "source": []
  }
 ],
 "metadata": {
  "kernelspec": {
   "display_name": "weaselbot",
   "language": "python",
   "name": "weaselbot"
  },
  "language_info": {
   "codemirror_mode": {
    "name": "ipython",
    "version": 3
   },
   "file_extension": ".py",
   "mimetype": "text/x-python",
   "name": "python",
   "nbconvert_exporter": "python",
   "pygments_lexer": "ipython3",
   "version": "3.12.1"
  }
 },
 "nbformat": 4,
 "nbformat_minor": 5
}

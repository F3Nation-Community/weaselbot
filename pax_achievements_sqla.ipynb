{
 "cells": [
  {
   "cell_type": "code",
   "execution_count": null,
   "id": "fb4d3a74-e774-48a2-b450-392160263a00",
   "metadata": {},
   "outputs": [],
   "source": [
    "import logging\n",
    "from datetime import date\n",
    "\n",
    "import pandas as pd\n",
    "from sqlalchemy import MetaData, Selectable, Table\n",
    "from sqlalchemy.dialects.mysql import insert\n",
    "from sqlalchemy.engine import Engine\n",
    "from sqlalchemy.exc import NoSuchTableError\n",
    "from sqlalchemy.sql import and_, case, func, or_, select\n",
    "\n",
    "from utils import mysql_connection"
   ]
  },
  {
   "cell_type": "code",
   "execution_count": null,
   "id": "8162f9b2-8375-4541-b097-820e281bfe94",
   "metadata": {},
   "outputs": [],
   "source": [
    "def nation_sql(metadata: MetaData, year: int) -> Selectable:\n",
    "    u = metadata.tables[\"weaselbot.combined_users\"]\n",
    "    a = metadata.tables[\"weaselbot.combined_aos\"]\n",
    "    b = metadata.tables[\"weaselbot.combined_beatdowns\"]\n",
    "    bd = metadata.tables[\"weaselbot.combined_attendance\"]\n",
    "    r = metadata.tables[\"weaselbot.combined_regions\"]\n",
    "    cu = metadata.tables[\"weaselbot.combined_users_dup\"]\n",
    "\n",
    "    sql = select(\n",
    "        u.c.email,\n",
    "        u.c.user_name,\n",
    "        cu.c.slack_user_id,\n",
    "        a.c.ao_id,\n",
    "        a.c.ao_name.label(\"ao\"),\n",
    "        b.c.bd_date.label(\"date\"),\n",
    "        case((or_(bd.c.user_id == b.c.q_user_id, bd.c.user_id == b.c.coq_user_id), 1), else_=0).label(\"q_flag\"),\n",
    "        b.c.backblast,\n",
    "        r.c.schema_name.label(\"home_region\"),\n",
    "    )\n",
    "    sql = sql.select_from(\n",
    "        bd.join(u, bd.c.user_id == u.c.user_id)\n",
    "        .join(cu, and_(u.c.email == cu.c.email, u.c.home_region_id == cu.c.region_id))\n",
    "        .join(b, bd.c.beatdown_id == b.c.beatdown_id)\n",
    "        .join(a, b.c.ao_id == a.c.ao_id)\n",
    "        .join(r, u.c.home_region_id == r.c.region_id)\n",
    "    )\n",
    "    sql = sql.where(\n",
    "        b.c.bd_date.between(f\"{year}-01-01\", func.curdate()), u.c.email != \"none\", u.c.user_name != \"PAXminer\"\n",
    "    )\n",
    "\n",
    "    return sql\n",
    "\n",
    "\n",
    "def region_sql(metadata: MetaData):\n",
    "    \"\"\"Pick out only the regions that want their weaselshaker awards.\"\"\"\n",
    "    t = metadata.tables[\"weaselbot.regions\"]\n",
    "    return select(t).where(t.c.send_achievements == 1)\n",
    "\n",
    "\n",
    "def award_view(row, engine: Engine, metadata: MetaData, year: int) -> Selectable:\n",
    "    aa = Table(\"achievements_awarded\", metadata, autoload_with=engine, schema=row.paxminer_schema)\n",
    "    al = Table(\"achievements_list\", metadata, autoload_with=engine, schema=row.paxminer_schema)\n",
    "\n",
    "    sql = (\n",
    "        select(aa, al.c.code)\n",
    "        .select_from(aa.join(al, aa.c.achievement_id == al.c.id))\n",
    "        .where(func.year(aa.c.date_awarded) == year)\n",
    "    )\n",
    "    return sql\n",
    "\n",
    "\n",
    "def award_list(row, engine: Engine, metadata: MetaData) -> Selectable:\n",
    "    try:\n",
    "        al = metadata.tables[f\"{row.paxminer_schema}.achievements_list\"]\n",
    "    except KeyError:\n",
    "        al = Table(\"achievements_list\", metadata, autoload_with=engine, schema=row.paxminer_schema)\n",
    "\n",
    "    return select(al)"
   ]
  },
  {
   "cell_type": "code",
   "execution_count": null,
   "id": "fb9bd9eb-5160-4e48-b485-31f2a4d3fba5",
   "metadata": {},
   "outputs": [],
   "source": [
    "year = date.today().year\n",
    "engine = mysql_connection()\n",
    "metadata = MetaData()\n",
    "metadata.reflect(engine, schema=\"weaselbot\")\n",
    "\n",
    "df_regions = pd.read_sql(region_sql(metadata), engine)\n",
    "nation_df = pd.read_sql(nation_sql(metadata, year), engine, parse_dates=\"date\")"
   ]
  },
  {
   "cell_type": "code",
   "execution_count": null,
   "id": "7db73732-69d5-4d22-b9e9-7261816eda48",
   "metadata": {},
   "outputs": [],
   "source": [
    "engine.dispose()"
   ]
  },
  {
   "cell_type": "code",
   "execution_count": null,
   "id": "2d9900a5-81b8-4ef6-8bfb-228098b0ea18",
   "metadata": {},
   "outputs": [],
   "source": [
    "nation_df.assign(week=nation_df.date.dt.isocalendar().week).loc[lambda x: (x.home_region == \"f3austin\") & (x.slack_user_id == \"U06064CJR5F\")].sort_values(\"week\", ascending=False)"
   ]
  },
  {
   "cell_type": "code",
   "execution_count": null,
   "id": "88306f73-e734-4bf8-8167-e46d84d6ac58",
   "metadata": {},
   "outputs": [],
   "source": [
    "# note: 4/6 beatdown isn't showing up in the Nation beatdown data table"
   ]
  }
 ],
 "metadata": {
  "kernelspec": {
   "display_name": "weaselbot",
   "language": "python",
   "name": "weaselbot"
  },
  "language_info": {
   "codemirror_mode": {
    "name": "ipython",
    "version": 3
   },
   "file_extension": ".py",
   "mimetype": "text/x-python",
   "name": "python",
   "nbconvert_exporter": "python",
   "pygments_lexer": "ipython3",
   "version": "3.12.2"
  }
 },
 "nbformat": 4,
 "nbformat_minor": 5
}

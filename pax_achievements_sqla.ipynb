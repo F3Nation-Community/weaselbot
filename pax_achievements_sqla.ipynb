{
 "cells": [
  {
   "cell_type": "code",
   "execution_count": 32,
   "id": "fb4d3a74-e774-48a2-b450-392160263a00",
   "metadata": {},
   "outputs": [],
   "source": [
    "import logging\n",
    "import re\n",
    "import ssl\n",
    "import time\n",
    "from datetime import date\n",
    "from functools import reduce\n",
    "\n",
    "import numpy as np\n",
    "import pandas as pd\n",
    "from slack_sdk import WebClient\n",
    "from slack_sdk.errors import SlackApiError\n",
    "from slack_sdk.web.slack_response import SlackResponse\n",
    "from sqlalchemy import MetaData, Table\n",
    "from sqlalchemy.sql import and_, case, func, or_, select, text\n",
    "\n",
    "from pax_achievements import (\n",
    "    cadre,\n",
    "    el_presidente,\n",
    "    hammer_not_nail,\n",
    "    hdtf,\n",
    "    leader_of_men,\n",
    "    nation_sql,\n",
    "    posts,\n",
    "    region_sql,\n",
    "    six_pack,\n",
    "    the_boss,\n",
    "    the_monk,\n",
    "    the_priest,\n",
    ")\n",
    "from utils import mysql_connection, slack_client\n"
   ]
  },
  {
   "cell_type": "code",
   "execution_count": 2,
   "id": "93b7b1db-a48e-4acc-87a9-bf936344c0b9",
   "metadata": {},
   "outputs": [],
   "source": [
    "logging.basicConfig(format=\"%(asctime)s [%(levelname)s]:%(message)s\",\n",
    "                        level=logging.INFO,\n",
    "                        datefmt=\"%Y-%m-%d %H:%M:%S\")"
   ]
  },
  {
   "cell_type": "code",
   "execution_count": 3,
   "id": "54a468f9-c48d-4929-9694-648afd8949a0",
   "metadata": {},
   "outputs": [
    {
     "name": "stdout",
     "output_type": "stream",
     "text": [
      "CPU times: user 73.5 ms, sys: 8 ms, total: 81.5 ms\n",
      "Wall time: 2.97 s\n"
     ]
    }
   ],
   "source": [
    "year = date.today().year\n",
    "engine = mysql_connection()\n",
    "metadata = MetaData()\n",
    "%time metadata.reflect(engine, schema=\"weaselbot\")"
   ]
  },
  {
   "cell_type": "code",
   "execution_count": 4,
   "id": "2e5f4a13-e5dc-4642-bc4f-5ed3d28f4d6d",
   "metadata": {},
   "outputs": [],
   "source": [
    "df_regions = pd.read_sql(region_sql(metadata), engine)\n",
    "nation_df = pd.read_sql(nation_sql(metadata, year), engine, parse_dates=\"date\")"
   ]
  },
  {
   "cell_type": "code",
   "execution_count": 5,
   "id": "98128e45-250e-4364-ba59-761e6639d431",
   "metadata": {},
   "outputs": [],
   "source": [
    "bb_filter = nation_df.backblast.str.lower().str[:100].str.contains(r\"q.{0,1}source|q{0,1}[1-9]\\.[0-9]\\s\")\n",
    "ao_filter = nation_df.ao.str.contains(r\"q.{0,1}source\")"
   ]
  },
  {
   "cell_type": "code",
   "execution_count": 29,
   "id": "5c5435db-900c-41fc-9ae7-f797ea554f0c",
   "metadata": {},
   "outputs": [],
   "source": [
    "dfs = list()\n",
    "############# Q Source ##############\n",
    "priest_df = the_priest(nation_df, bb_filter, ao_filter)\n",
    "monk_df = the_monk(nation_df, bb_filter, ao_filter)\n",
    "############### END #################"
   ]
  },
  {
   "cell_type": "code",
   "execution_count": 30,
   "id": "9d010d1b-e251-4144-b32b-4ad402f08dd2",
   "metadata": {},
   "outputs": [],
   "source": [
    "############ ALL ELSE ###############\n",
    "leader_of_men_df = leader_of_men(nation_df, bb_filter, ao_filter)\n",
    "boss_df = the_boss(nation_df, bb_filter, ao_filter)\n",
    "hammer_not_nail_df = hammer_not_nail(nation_df, bb_filter, ao_filter)\n",
    "cadre_df = cadre(nation_df, bb_filter, ao_filter)\n",
    "el_presidente_df = el_presidente(nation_df, bb_filter, ao_filter)\n",
    "\n",
    "ss = []\n",
    "s = posts(nation_df, bb_filter, ao_filter)\n",
    "for val in [25, 50, 100, 150, 200]:\n",
    "    ss.append(s[s >= val])\n",
    "el_quatro, golden_boy, centurian, karate_kid, crazy_person = ss\n",
    "six_pack_df = six_pack(nation_df, bb_filter, ao_filter)\n",
    "hdtf_df = hdtf(nation_df, bb_filter, ao_filter)"
   ]
  },
  {
   "cell_type": "code",
   "execution_count": 74,
   "id": "e12d4064-eba4-46ef-8b28-7e36da77c1ad",
   "metadata": {},
   "outputs": [
    {
     "data": {
      "text/plain": [
       "array(['f3alliance', 'f3waco', 'f3naperville', 'f3waxhaw', 'f3columbia',\n",
       "       'f3muletown', 'f3pugetsound', 'f3jeffco', 'f3stlmeramec',\n",
       "       'f3southcary', 'f3glacier', 'f3ttown', 'f3washmo', 'f3expedition',\n",
       "       'f3central_il', 'f3southsound', 'f3thecapital', 'f3nwarkansas',\n",
       "       'f3thespark', 'f3gwinnett', 'f3stl', 'f3orlando', 'f3westcobb',\n",
       "       'f3marshall', 'f3roanoke', 'f3albany', 'f3suncoast', 'f3austin',\n",
       "       'f3hillcountry', 'f3blueridge', 'f3portland', 'f3northlake',\n",
       "       'f3cherokee', 'f3denver', 'f3florence', 'f3fortcollins',\n",
       "       'f3thejunction', 'f3wichita', 'f3noho', 'f3knoxville', 'f3thefort',\n",
       "       'f3houston', 'f3kcmo', 'f3borderlands', 'f3westindy', 'f3soco',\n",
       "       'f3huntsville', 'f3flomo', 'f3albuquerque', 'f3spiritofstl',\n",
       "       'f3ne_wake', 'f3stcharles', 'f3thechuck', 'f3chicago',\n",
       "       'f3se_michigan', 'f3brentwood', 'f3sclt', 'f3twincities',\n",
       "       'f3memphis', 'f3noco', 'f3tornadoalley'], dtype=object)"
      ]
     },
     "execution_count": 74,
     "metadata": {},
     "output_type": "execute_result"
    }
   ],
   "source": [
    "df_regions.paxminer_schema.unique()"
   ]
  },
  {
   "cell_type": "code",
   "execution_count": 75,
   "id": "05cc04f0-15bd-4b9e-87af-d57a0b85fd04",
   "metadata": {},
   "outputs": [],
   "source": [
    "for r in df_regions.itertuples(index=False):\n",
    "    if r.paxminer_schema == \"f3ne_wake\":\n",
    "        row = r"
   ]
  },
  {
   "cell_type": "code",
   "execution_count": null,
   "id": "87a03f47-40eb-4285-b15a-a127dbc332af",
   "metadata": {},
   "outputs": [],
   "source": [
    "# client = slack_client(row.slack_token) # no need for this yet. Here for completeness"
   ]
  },
  {
   "cell_type": "code",
   "execution_count": 77,
   "id": "6a2a2378-faa0-43ac-bdce-e447b714f9be",
   "metadata": {},
   "outputs": [
    {
     "name": "stderr",
     "output_type": "stream",
     "text": [
      "2024-01-28 19:15:15 [ERROR]:f3ne_wake not in the_priest\n"
     ]
    }
   ],
   "source": [
    "idx = pd.IndexSlice\n",
    "try:\n",
    "    records = priest_df[idx[:, row.paxminer_schema]]\n",
    "    data = records.reset_index().drop(\"ao_id\", axis=1).assign(achievement_id=1, date_awarded=date.today()).to_dict(\"records\")\n",
    "except KeyError as e:\n",
    "    logging.error(f\"{row.paxminer_schema} not in the_priest\")"
   ]
  },
  {
   "cell_type": "code",
   "execution_count": 78,
   "id": "798f6f16-5fc4-412c-8eab-cc0aae882364",
   "metadata": {},
   "outputs": [],
   "source": [
    "try:\n",
    "    records = monk_df[idx[:, :, row.paxminer_schema]]\n",
    "    data = records.reset_index().drop(\"ao_id\", axis=1).assign(achievement_id=2, date_awarded=date.today()).to_dict(\"records\")\n",
    "except KeyError as e:\n",
    "    logging.error(f\"{row.paxminer_schema} not in the_monk\")"
   ]
  },
  {
   "cell_type": "code",
   "execution_count": 79,
   "id": "10db5f1f-003b-4161-83db-906f90329bbf",
   "metadata": {},
   "outputs": [
    {
     "data": {
      "text/plain": [
       "[{'month': 1,\n",
       "  'slack_user_id': 'U0328DW47MH',\n",
       "  'achievement_id': 2,\n",
       "  'date_awarded': datetime.date(2024, 1, 28)},\n",
       " {'month': 1,\n",
       "  'slack_user_id': 'U032Y5T6VH6',\n",
       "  'achievement_id': 2,\n",
       "  'date_awarded': datetime.date(2024, 1, 28)}]"
      ]
     },
     "execution_count": 79,
     "metadata": {},
     "output_type": "execute_result"
    }
   ],
   "source": [
    "data"
   ]
  },
  {
   "cell_type": "code",
   "execution_count": 82,
   "id": "aebfab9e-ff47-4d1a-9403-b8af7bb276e3",
   "metadata": {},
   "outputs": [],
   "source": [
    "try:\n",
    "    records = leader_of_men_df[idx[:, :, row.paxminer_schema]]\n",
    "    data = records.reset_index().drop(\"ao_id\", axis=1).assign(achievement_id=3, date_awarded=date.today()).to_dict(\"records\")\n",
    "except KeyError as e:\n",
    "    logging.error(f\"{row.paxminer_schema} not in leader_of_men\")"
   ]
  },
  {
   "cell_type": "code",
   "execution_count": 83,
   "id": "82813f4f-3e96-4bcf-ab1a-bd02eece394e",
   "metadata": {},
   "outputs": [
    {
     "data": {
      "text/plain": [
       "[{'month': 1,\n",
       "  'slack_user_id': 'U01QC9PN2LV',\n",
       "  'achievement_id': 3,\n",
       "  'date_awarded': datetime.date(2024, 1, 28)},\n",
       " {'month': 1,\n",
       "  'slack_user_id': 'U0328DW47MH',\n",
       "  'achievement_id': 3,\n",
       "  'date_awarded': datetime.date(2024, 1, 28)},\n",
       " {'month': 1,\n",
       "  'slack_user_id': 'U04HW3RLQ6Q',\n",
       "  'achievement_id': 3,\n",
       "  'date_awarded': datetime.date(2024, 1, 28)},\n",
       " {'month': 1,\n",
       "  'slack_user_id': 'U04R1S9RGQ5',\n",
       "  'achievement_id': 3,\n",
       "  'date_awarded': datetime.date(2024, 1, 28)}]"
      ]
     },
     "execution_count": 83,
     "metadata": {},
     "output_type": "execute_result"
    }
   ],
   "source": [
    "data"
   ]
  },
  {
   "cell_type": "code",
   "execution_count": 84,
   "id": "a318c0b1-7357-4427-bdb1-3da48a2c3027",
   "metadata": {},
   "outputs": [
    {
     "name": "stderr",
     "output_type": "stream",
     "text": [
      "2024-01-28 19:21:38 [ERROR]:f3ne_wake not in the_boss\n"
     ]
    }
   ],
   "source": [
    "try:\n",
    "    records = boss_df[idx[:, :, row.paxminer_schema]]\n",
    "    data = records.reset_index().drop(\"ao_id\", axis=1).assign(achievement_id=4, date_awarded=date.today()).to_dict(\"records\")\n",
    "except KeyError as e:\n",
    "    logging.error(f\"{row.paxminer_schema} not in the_boss\")"
   ]
  },
  {
   "cell_type": "code",
   "execution_count": 85,
   "id": "79ac39a9-217e-4227-a026-ecc5ad101afe",
   "metadata": {},
   "outputs": [
    {
     "name": "stderr",
     "output_type": "stream",
     "text": [
      "2024-01-28 19:21:39 [ERROR]:f3ne_wake not in be_the_hammer_not_the_nail\n"
     ]
    }
   ],
   "source": [
    "try:\n",
    "    records = hammer_not_nail_df[idx[:, :, row.paxminer_schema]]\n",
    "    data = records.reset_index().drop(\"ao_id\", axis=1).assign(achievement_id=5, date_awarded=date.today()).to_dict(\"records\")\n",
    "except KeyError as e:\n",
    "    logging.error(f\"{row.paxminer_schema} not in be_the_hammer_not_the_nail\")"
   ]
  },
  {
   "cell_type": "code",
   "execution_count": 86,
   "id": "59e40b08-bea6-42de-a471-ebd811c1e86d",
   "metadata": {},
   "outputs": [
    {
     "name": "stderr",
     "output_type": "stream",
     "text": [
      "2024-01-28 19:21:42 [ERROR]:f3ne_wake not in cadre\n"
     ]
    }
   ],
   "source": [
    "try:\n",
    "    records = cadre_df[idx[:, :, row.paxminer_schema]]\n",
    "    data = records.reset_index().drop(\"ao_id\", axis=1).assign(achievement_id=6, date_awarded=date.today()).to_dict(\"records\")\n",
    "except KeyError as e:\n",
    "    logging.error(f\"{row.paxminer_schema} not in cadre\")"
   ]
  },
  {
   "cell_type": "code",
   "execution_count": 87,
   "id": "c88dfc21-8d47-4485-be72-168051f69563",
   "metadata": {},
   "outputs": [
    {
     "name": "stderr",
     "output_type": "stream",
     "text": [
      "2024-01-28 19:21:42 [ERROR]:f3ne_wake not in el_presidente\n"
     ]
    }
   ],
   "source": [
    "try:\n",
    "    records = el_presidente_df[idx[:, :, row.paxminer_schema]]\n",
    "    data = records.reset_index().drop(\"ao_id\", axis=1).assign(achievement_id=7, date_awarded=date.today()).to_dict(\"records\")\n",
    "except KeyError as e:\n",
    "    logging.error(f\"{row.paxminer_schema} not in el_presidente\")"
   ]
  },
  {
   "cell_type": "code",
   "execution_count": 88,
   "id": "30a68e60-d024-4244-a2ac-706d0eca0c66",
   "metadata": {},
   "outputs": [
    {
     "name": "stderr",
     "output_type": "stream",
     "text": [
      "2024-01-28 19:21:44 [ERROR]:f3ne_wake not in el_quatro\n"
     ]
    }
   ],
   "source": [
    "try:\n",
    "    records = el_quatro[idx[:, :, row.paxminer_schema]]\n",
    "    data = records.reset_index().drop(\"ao_id\", axis=1).assign(achievement_id=8, date_awarded=date.today()).to_dict(\"records\")\n",
    "except KeyError as e:\n",
    "    logging.error(f\"{row.paxminer_schema} not in el_quatro\")"
   ]
  },
  {
   "cell_type": "code",
   "execution_count": 89,
   "id": "98ff0dba-4c0a-4f2b-95ad-c51cb92e2836",
   "metadata": {},
   "outputs": [
    {
     "name": "stderr",
     "output_type": "stream",
     "text": [
      "2024-01-28 19:21:45 [ERROR]:f3ne_wake not in golden_boy\n"
     ]
    }
   ],
   "source": [
    "try:\n",
    "    records = golden_boy[idx[:, :, row.paxminer_schema]]\n",
    "    data = records.reset_index().drop(\"ao_id\", axis=1).assign(achievement_id=9, date_awarded=date.today()).to_dict(\"records\")\n",
    "except KeyError as e:\n",
    "    logging.error(f\"{row.paxminer_schema} not in golden_boy\")"
   ]
  },
  {
   "cell_type": "code",
   "execution_count": 90,
   "id": "166d3f6f-2558-4b7d-942f-9a0e5db1ccf7",
   "metadata": {},
   "outputs": [
    {
     "name": "stderr",
     "output_type": "stream",
     "text": [
      "2024-01-28 19:21:45 [ERROR]:f3ne_wake not in centurian\n"
     ]
    }
   ],
   "source": [
    "try:\n",
    "    records = centurian[idx[:, :, row.paxminer_schema]]\n",
    "    data = records.reset_index().drop(\"ao_id\", axis=1).assign(achievement_id=10, date_awarded=date.today()).to_dict(\"records\")\n",
    "except KeyError as e:\n",
    "    logging.error(f\"{row.paxminer_schema} not in centurian\")"
   ]
  },
  {
   "cell_type": "code",
   "execution_count": 91,
   "id": "fdead68c-c111-4534-bc1d-c8cb2320d160",
   "metadata": {},
   "outputs": [
    {
     "name": "stderr",
     "output_type": "stream",
     "text": [
      "2024-01-28 19:21:47 [ERROR]:f3ne_wake not in karate_kid\n"
     ]
    }
   ],
   "source": [
    "try:\n",
    "    records = karate_kid[idx[:, :, row.paxminer_schema]]\n",
    "    data = records.reset_index().drop(\"ao_id\", axis=1).assign(achievement_id=11, date_awarded=date.today()).to_dict(\"records\")\n",
    "except KeyError as e:\n",
    "    logging.error(f\"{row.paxminer_schema} not in karate_kid\")"
   ]
  },
  {
   "cell_type": "code",
   "execution_count": 92,
   "id": "2249fcda-2972-4574-8f01-9ceecbf5d22f",
   "metadata": {},
   "outputs": [
    {
     "name": "stderr",
     "output_type": "stream",
     "text": [
      "2024-01-28 19:21:50 [ERROR]:f3ne_wake not in crazy_person\n"
     ]
    }
   ],
   "source": [
    "try:\n",
    "    records = crazy_person[idx[:, :, row.paxminer_schema]]\n",
    "    data = records.reset_index().drop(\"ao_id\", axis=1).assign(achievement_id=12, date_awarded=date.today()).to_dict(\"records\")\n",
    "except KeyError as e:\n",
    "    logging.error(f\"{row.paxminer_schema} not in crazy_person\")"
   ]
  },
  {
   "cell_type": "code",
   "execution_count": 93,
   "id": "222028fa-edf9-4bf2-ae00-20e46e808549",
   "metadata": {},
   "outputs": [
    {
     "name": "stderr",
     "output_type": "stream",
     "text": [
      "2024-01-28 19:21:50 [ERROR]:f3ne_wake not in six_pack\n"
     ]
    }
   ],
   "source": [
    "try:\n",
    "    records = six_pack_df[idx[:, :, row.paxminer_schema]]\n",
    "    data = records.reset_index().drop(\"ao_id\", axis=1).assign(achievement_id=13, date_awarded=date.today()).to_dict(\"records\")\n",
    "except KeyError as e:\n",
    "    logging.error(f\"{row.paxminer_schema} not in six_pack\")"
   ]
  },
  {
   "cell_type": "code",
   "execution_count": 69,
   "id": "fd439e89-43e5-4d1b-8609-ace563783456",
   "metadata": {},
   "outputs": [
    {
     "name": "stderr",
     "output_type": "stream",
     "text": [
      "2024-01-28 19:08:12 [ERROR]:f3chicago not in holding_down_the_fort\n"
     ]
    }
   ],
   "source": [
    "try:\n",
    "    records = hdtf_df[idx[:, :, row.paxminer_schema]]\n",
    "    data = records.reset_index().drop(\"ao\", axis=1).assign(achievement_id=14, date_awarded=date.today()).to_dict(\"records\")\n",
    "except KeyError as e:\n",
    "    logging.error(f\"{row.paxminer_schema} not in holding_down_the_fort\")"
   ]
  },
  {
   "cell_type": "code",
   "execution_count": 100,
   "id": "23e33ae1-1234-43a8-b6dd-4d7f7fa61aa3",
   "metadata": {},
   "outputs": [
    {
     "data": {
      "text/html": [
       "<div>\n",
       "<style scoped>\n",
       "    .dataframe tbody tr th:only-of-type {\n",
       "        vertical-align: middle;\n",
       "    }\n",
       "\n",
       "    .dataframe tbody tr th {\n",
       "        vertical-align: top;\n",
       "    }\n",
       "\n",
       "    .dataframe thead th {\n",
       "        text-align: right;\n",
       "    }\n",
       "</style>\n",
       "<table border=\"1\" class=\"dataframe\">\n",
       "  <thead>\n",
       "    <tr style=\"text-align: right;\">\n",
       "      <th></th>\n",
       "      <th>email</th>\n",
       "      <th>user_name</th>\n",
       "      <th>slack_user_id</th>\n",
       "      <th>ao_id</th>\n",
       "      <th>ao</th>\n",
       "      <th>date</th>\n",
       "      <th>year_num</th>\n",
       "      <th>month_num</th>\n",
       "      <th>week_num</th>\n",
       "      <th>day_num</th>\n",
       "      <th>q_flag</th>\n",
       "      <th>backblast</th>\n",
       "      <th>home_region</th>\n",
       "    </tr>\n",
       "  </thead>\n",
       "  <tbody>\n",
       "    <tr>\n",
       "      <th>32463</th>\n",
       "      <td>ray.perry17@gmail.com</td>\n",
       "      <td>Green Thumb (Ray Perry)</td>\n",
       "      <td>U0328DW47MH</td>\n",
       "      <td>4974</td>\n",
       "      <td>ao_agoge</td>\n",
       "      <td>2024-01-22</td>\n",
       "      <td>2024</td>\n",
       "      <td>1</td>\n",
       "      <td>3</td>\n",
       "      <td>22</td>\n",
       "      <td>0</td>\n",
       "      <td>Backblast! 5's, 7's, 9's, &amp; 11's\\nDATE: 2024-0...</td>\n",
       "      <td>f3ne_wake</td>\n",
       "    </tr>\n",
       "    <tr>\n",
       "      <th>32475</th>\n",
       "      <td>ray.perry17@gmail.com</td>\n",
       "      <td>Green Thumb (Ray Perry)</td>\n",
       "      <td>U0328DW47MH</td>\n",
       "      <td>4965</td>\n",
       "      <td>ao_corral</td>\n",
       "      <td>2024-01-23</td>\n",
       "      <td>2024</td>\n",
       "      <td>1</td>\n",
       "      <td>3</td>\n",
       "      <td>23</td>\n",
       "      <td>0</td>\n",
       "      <td>Backblast! Jan 23 Corral Workout\\nDATE: 2024-0...</td>\n",
       "      <td>f3ne_wake</td>\n",
       "    </tr>\n",
       "    <tr>\n",
       "      <th>32476</th>\n",
       "      <td>ray.perry17@gmail.com</td>\n",
       "      <td>Green Thumb (Ray Perry)</td>\n",
       "      <td>U0328DW47MH</td>\n",
       "      <td>4964</td>\n",
       "      <td>ao_max_bandwidth</td>\n",
       "      <td>2024-01-25</td>\n",
       "      <td>2024</td>\n",
       "      <td>1</td>\n",
       "      <td>3</td>\n",
       "      <td>25</td>\n",
       "      <td>0</td>\n",
       "      <td>Backblast! Max Bandwidth - Yoda\\nDATE: 2024-01...</td>\n",
       "      <td>f3ne_wake</td>\n",
       "    </tr>\n",
       "    <tr>\n",
       "      <th>32477</th>\n",
       "      <td>ray.perry17@gmail.com</td>\n",
       "      <td>Green Thumb (Ray Perry)</td>\n",
       "      <td>U0328DW47MH</td>\n",
       "      <td>4972</td>\n",
       "      <td>ao_red_dawn</td>\n",
       "      <td>2024-01-26</td>\n",
       "      <td>2024</td>\n",
       "      <td>1</td>\n",
       "      <td>3</td>\n",
       "      <td>26</td>\n",
       "      <td>1</td>\n",
       "      <td>Backblast! Hills? What Hills?\\nDATE: 2024-01-2...</td>\n",
       "      <td>f3ne_wake</td>\n",
       "    </tr>\n",
       "    <tr>\n",
       "      <th>32479</th>\n",
       "      <td>ray.perry17@gmail.com</td>\n",
       "      <td>Green Thumb (Ray Perry)</td>\n",
       "      <td>U0328DW47MH</td>\n",
       "      <td>4959</td>\n",
       "      <td>ao_farm</td>\n",
       "      <td>2024-01-27</td>\n",
       "      <td>2024</td>\n",
       "      <td>1</td>\n",
       "      <td>3</td>\n",
       "      <td>27</td>\n",
       "      <td>0</td>\n",
       "      <td>Backblast! 28th Birthday Bash\\nDATE: 2024-01-2...</td>\n",
       "      <td>f3ne_wake</td>\n",
       "    </tr>\n",
       "  </tbody>\n",
       "</table>\n",
       "</div>"
      ],
      "text/plain": [
       "                       email                user_name slack_user_id  ao_id  \\\n",
       "32463  ray.perry17@gmail.com  Green Thumb (Ray Perry)   U0328DW47MH   4974   \n",
       "32475  ray.perry17@gmail.com  Green Thumb (Ray Perry)   U0328DW47MH   4965   \n",
       "32476  ray.perry17@gmail.com  Green Thumb (Ray Perry)   U0328DW47MH   4964   \n",
       "32477  ray.perry17@gmail.com  Green Thumb (Ray Perry)   U0328DW47MH   4972   \n",
       "32479  ray.perry17@gmail.com  Green Thumb (Ray Perry)   U0328DW47MH   4959   \n",
       "\n",
       "                     ao       date  year_num  month_num  week_num  day_num  \\\n",
       "32463          ao_agoge 2024-01-22      2024          1         3       22   \n",
       "32475         ao_corral 2024-01-23      2024          1         3       23   \n",
       "32476  ao_max_bandwidth 2024-01-25      2024          1         3       25   \n",
       "32477       ao_red_dawn 2024-01-26      2024          1         3       26   \n",
       "32479           ao_farm 2024-01-27      2024          1         3       27   \n",
       "\n",
       "       q_flag                                          backblast home_region  \n",
       "32463       0  Backblast! 5's, 7's, 9's, & 11's\\nDATE: 2024-0...   f3ne_wake  \n",
       "32475       0  Backblast! Jan 23 Corral Workout\\nDATE: 2024-0...   f3ne_wake  \n",
       "32476       0  Backblast! Max Bandwidth - Yoda\\nDATE: 2024-01...   f3ne_wake  \n",
       "32477       1  Backblast! Hills? What Hills?\\nDATE: 2024-01-2...   f3ne_wake  \n",
       "32479       0  Backblast! 28th Birthday Bash\\nDATE: 2024-01-2...   f3ne_wake  "
      ]
     },
     "execution_count": 100,
     "metadata": {},
     "output_type": "execute_result"
    }
   ],
   "source": [
    "# under current logic, this man received 6-pack. But he hasn't earned it because 2 of his beatdowns were Q Source. New\n",
    "# logic catches it.\n",
    "\n",
    "nation_df.query(\"slack_user_id == 'U0328DW47MH' and '2024-01-21' <= date <= '2024-01-27' and ao != 'ao_q_source'\")"
   ]
  },
  {
   "cell_type": "code",
   "execution_count": null,
   "id": "073dc554-51b7-4973-bb75-58e5789aec8d",
   "metadata": {},
   "outputs": [],
   "source": []
  }
 ],
 "metadata": {
  "kernelspec": {
   "display_name": "weaselbot",
   "language": "python",
   "name": "weaselbot"
  },
  "language_info": {
   "codemirror_mode": {
    "name": "ipython",
    "version": 3
   },
   "file_extension": ".py",
   "mimetype": "text/x-python",
   "name": "python",
   "nbconvert_exporter": "python",
   "pygments_lexer": "ipython3",
   "version": "3.12.1"
  }
 },
 "nbformat": 4,
 "nbformat_minor": 5
}
